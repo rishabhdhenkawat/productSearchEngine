{
 "cells": [
  {
   "cell_type": "code",
   "execution_count": null,
   "metadata": {
    "colab": {
     "base_uri": "https://localhost:8080/"
    },
    "id": "MFpf99rpjaTA",
    "outputId": "21276bbc-7c53-43f9-de97-7c7268e22e50"
   },
   "outputs": [
    {
     "name": "stdout",
     "output_type": "stream",
     "text": [
      "[nltk_data] Downloading package stopwords to /root/nltk_data...\n",
      "[nltk_data]   Package stopwords is already up-to-date!\n"
     ]
    }
   ],
   "source": [
    "# Importing necessary libraries\n",
    "import pandas as pd\n",
    "import numpy as np\n",
    "import nltk\n",
    "nltk.download('stopwords')\n",
    "from nltk.corpus import stopwords\n",
    "from sklearn.metrics.pairwise import linear_kernel\n",
    "from sklearn.feature_extraction.text import CountVectorizer\n",
    "from sklearn.feature_extraction.text import TfidfVectorizer\n",
    "from nltk.tokenize import RegexpTokenizer\n",
    "import re\n",
    "import string\n",
    "import random\n",
    "from PIL import Image\n",
    "import requests\n",
    "from io import BytesIO\n",
    "import matplotlib.pyplot as plt\n",
    "%matplotlib inline\n",
    "from sklearn.metrics.pairwise import cosine_similarity\n",
    "from gensim.models import Word2Vec\n",
    "from gensim.models.phrases import Phrases, Phraser\n",
    "from matplotlib import pyplot\n",
    "from gensim.models import KeyedVectors"
   ]
  },
  {
   "cell_type": "code",
   "execution_count": null,
   "metadata": {
    "colab": {
     "base_uri": "https://localhost:8080/"
    },
    "id": "TzIMz3FEJ8YB",
    "outputId": "4cd6f5d6-bcec-447f-e1f8-4b7b6c9d0665"
   },
   "outputs": [
    {
     "name": "stdout",
     "output_type": "stream",
     "text": [
      "Drive already mounted at /content/drive; to attempt to forcibly remount, call drive.mount(\"/content/drive\", force_remount=True).\n"
     ]
    }
   ],
   "source": [
    "from google.colab import drive\n",
    "drive.mount('/content/drive')"
   ]
  },
  {
   "cell_type": "code",
   "execution_count": null,
   "metadata": {
    "colab": {
     "base_uri": "https://localhost:8080/"
    },
    "id": "mQM1rvBuJ7ii",
    "outputId": "dd001061-9d57-4e27-ed8a-1983d3bea874"
   },
   "outputs": [
    {
     "data": {
      "text/plain": [
       "(66397, 2)"
      ]
     },
     "execution_count": 5,
     "metadata": {
      "tags": []
     },
     "output_type": "execute_result"
    }
   ],
   "source": [
    "import pandas as pd\n",
    "df = pd.read_csv(\"/content/drive/My Drive/final main.csv\")\n",
    "df.shape"
   ]
  },
  {
   "cell_type": "code",
   "execution_count": null,
   "metadata": {
    "id": "BDvUYfOZjvB5"
   },
   "outputs": [],
   "source": [
    "\n",
    "def _removeNonAscii(s):\n",
    "    return \"\".join(i for i in s if  ord(i)<128)\n",
    "\n",
    "def make_lower_case(text):\n",
    "    return text.lower()\n",
    "\n",
    "def remove_stop_words(text):\n",
    "    text = text.split()\n",
    "    stops = set(stopwords.words(\"english\"))\n",
    "    text = [w for w in text if not w in stops]\n",
    "    text = \" \".join(text)\n",
    "    return text\n",
    "\n",
    "def remove_html(text):\n",
    "    html_pattern = re.compile('<.*?>')\n",
    "    return html_pattern.sub(r'', text)\n",
    "\n",
    "def remove_punctuation(text):\n",
    "    tokenizer = RegexpTokenizer(r'\\w+')\n",
    "    text = tokenizer.tokenize(text)\n",
    "    text = \" \".join(text)\n",
    "    return text"
   ]
  },
  {
   "cell_type": "code",
   "execution_count": null,
   "metadata": {
    "id": "sOiemLX0kvQ8"
   },
   "outputs": [],
   "source": [
    "df['desc'] = df['desc'].astype(str)"
   ]
  },
  {
   "cell_type": "code",
   "execution_count": null,
   "metadata": {
    "id": "J1JAUqqh2AF9"
   },
   "outputs": [],
   "source": [
    "df['cleaned'] = df['desc'].apply(_removeNonAscii)\n",
    "\n",
    "df['cleaned'] = df.cleaned.apply(func = make_lower_case)\n",
    "df['cleaned'] = df.cleaned.apply(func = remove_stop_words)\n",
    "df['cleaned'] = df.cleaned.apply(func=remove_punctuation)\n",
    "df['cleaned'] = df.cleaned.apply(func=remove_html)\n"
   ]
  },
  {
   "cell_type": "code",
   "execution_count": null,
   "metadata": {
    "id": "ftPvaD4ISo4q"
   },
   "outputs": [],
   "source": [
    "df.to_csv(\"/content/drive/My Drive/finalDataCleaned.csv\")"
   ]
  },
  {
   "cell_type": "code",
   "execution_count": null,
   "metadata": {
    "id": "St0QPVymYFyx"
   },
   "outputs": [],
   "source": [
    "df=pd.read_csv(\"/content/drive/My Drive/finalDataCleaned.csv\")"
   ]
  },
  {
   "cell_type": "code",
   "execution_count": null,
   "metadata": {
    "colab": {
     "base_uri": "https://localhost:8080/"
    },
    "id": "sUdgvEJqks3k",
    "outputId": "92932f21-1682-4bdb-d8ab-c102c6cc814e"
   },
   "outputs": [
    {
     "name": "stdout",
     "output_type": "stream",
     "text": [
      "--2021-07-12 05:26:27--  https://s3.amazonaws.com/dl4j-distribution/GoogleNews-vectors-negative300.bin.gz\n",
      "Resolving s3.amazonaws.com (s3.amazonaws.com)... 52.216.144.133\n",
      "Connecting to s3.amazonaws.com (s3.amazonaws.com)|52.216.144.133|:443... connected.\n",
      "HTTP request sent, awaiting response... 200 OK\n",
      "Length: 1647046227 (1.5G) [application/x-gzip]\n",
      "Saving to: ‘/content/drive/My Drive/GoogleNews-vectors-negative300.bin.gz’\n",
      "\n",
      "GoogleNews-vectors- 100%[===================>]   1.53G  43.2MB/s    in 37s     \n",
      "\n",
      "2021-07-12 05:27:04 (42.2 MB/s) - ‘/content/drive/My Drive/GoogleNews-vectors-negative300.bin.gz’ saved [1647046227/1647046227]\n",
      "\n"
     ]
    }
   ],
   "source": [
    "# # Downloading the Google pretrained Word2Vec Model\n",
    "!wget -P \"/content/drive/My Drive/\" -c \"https://s3.amazonaws.com/dl4j-distribution/GoogleNews-vectors-negative300.bin.gz\""
   ]
  },
  {
   "cell_type": "code",
   "execution_count": null,
   "metadata": {
    "id": "oGVSIbRHk_pn"
   },
   "outputs": [],
   "source": [
    "EMBEDDING_FILE = '/content/drive/My Drive/GoogleNews-vectors-negative300.bin.gz'\n",
    "google_word2vec = KeyedVectors.load_word2vec_format(EMBEDDING_FILE, binary=True)\n"
   ]
  },
  {
   "cell_type": "code",
   "execution_count": null,
   "metadata": {
    "id": "fvu_Z9QDv2Zy"
   },
   "outputs": [],
   "source": [
    "#splitting the description into words\n",
    "\n",
    "i = 0\n",
    "corpus = []\n",
    "for words in df['cleaned']:\n",
    "    corpus.append(words.split())"
   ]
  },
  {
   "cell_type": "code",
   "execution_count": null,
   "metadata": {
    "colab": {
     "base_uri": "https://localhost:8080/",
     "height": 105
    },
    "id": "PbC7_Zx1l8sc",
    "outputId": "7302378f-4032-469d-8a82-e9f7795e1464"
   },
   "outputs": [
    {
     "name": "stderr",
     "output_type": "stream",
     "text": [
      "/usr/local/lib/python3.6/dist-packages/smart_open/smart_open_lib.py:253: UserWarning: This function is deprecated, use smart_open.open instead. See the migration notes for details: https://github.com/RaRe-Technologies/smart_open/blob/master/README.rst#migrating-to-the-new-open-function\n",
      "  'See the migration notes for details: %s' % _MIGRATION_NOTES_URL\n"
     ]
    },
    {
     "name": "stdout",
     "output_type": "stream",
     "text": [
      "CPU times: user 1min 15s, sys: 630 ms, total: 1min 16s\n",
      "Wall time: 1min 16s\n"
     ]
    }
   ],
   "source": [
    "# Training our corpus with Google Pretrained Model\n",
    "%%time\n",
    "google_model = Word2Vec(size = 300, window=5, min_count = 2, workers = -1)\n",
    "google_model.build_vocab(list_of_sentance)\n",
    "\n",
    "#model.intersect_word2vec_format('./word2vec/GoogleNews-vectors-negative300.bin', lockf=1.0, binary=True)\n",
    "\n",
    "google_model.intersect_word2vec_format(EMBEDDING_FILE, lockf=1.0, binary=True)\n",
    "\n",
    "google_model.train(corpus, total_examples=google_model.corpus_count, epochs = 5)"
   ]
  },
  {
   "cell_type": "code",
   "execution_count": null,
   "metadata": {
    "id": "I-PrxT22MDvB"
   },
   "outputs": [],
   "source": [
    "google_model = Word2Vec.load(\"/content/drive/My Drive/pharmEasyProductsWord2Vec.model\")\n",
    "# google_model.load(\"/content/drive/My Drive/pharmEasyProductsWord2Vec.model\")"
   ]
  },
  {
   "cell_type": "code",
   "execution_count": null,
   "metadata": {
    "colab": {
     "base_uri": "https://localhost:8080/"
    },
    "id": "jIwnKF80vwF5",
    "outputId": "6e60cee8-0303-48fe-a9e7-ec3a4a77f5b5"
   },
   "outputs": [
    {
     "data": {
      "text/plain": [
       "[('fevers', 0.6539823412895203),\n",
       " ('mania', 0.5566962957382202),\n",
       " ('feverish', 0.5537868142127991),\n",
       " ('giddiness', 0.49206802248954773),\n",
       " ('conjunctivitis', 0.47061413526535034),\n",
       " ('pneumonia', 0.4555879831314087),\n",
       " ('jaundice', 0.4547288715839386),\n",
       " ('euphoria', 0.4541453421115875),\n",
       " ('diarrhea', 0.4443085789680481),\n",
       " ('indigestion', 0.4330584406852722)]"
      ]
     },
     "execution_count": 19,
     "metadata": {
      "tags": []
     },
     "output_type": "execute_result"
    }
   ],
   "source": [
    "google_model.wv.most_similar(positive=[\"fever\"])"
   ]
  },
  {
   "cell_type": "code",
   "execution_count": null,
   "metadata": {
    "colab": {
     "base_uri": "https://localhost:8080/"
    },
    "id": "52oWyjiGPq1n",
    "outputId": "70835e36-b59d-4a4e-9d5f-2432d50e0716"
   },
   "outputs": [
    {
     "data": {
      "text/plain": [
       "[('besan', 0.6918732523918152),\n",
       " ('methi', 0.6773034334182739),\n",
       " ('dhania', 0.663796067237854),\n",
       " ('kesar', 0.6617475748062134),\n",
       " ('amla', 0.6529474258422852),\n",
       " ('mirch', 0.6475131511688232),\n",
       " ('sindoor', 0.6453619003295898),\n",
       " ('turmeric', 0.6445726752281189),\n",
       " ('elaichi', 0.6389597654342651),\n",
       " ('pudina', 0.6377332806587219)]"
      ]
     },
     "execution_count": 21,
     "metadata": {
      "tags": []
     },
     "output_type": "execute_result"
    }
   ],
   "source": [
    "google_model.wv.most_similar(positive=[\"haldi\"])"
   ]
  },
  {
   "cell_type": "code",
   "execution_count": null,
   "metadata": {
    "colab": {
     "base_uri": "https://localhost:8080/"
    },
    "id": "zk8Q2JLbPv5_",
    "outputId": "a7846db8-e0e2-4c57-c877-30910ea029e8"
   },
   "outputs": [
    {
     "data": {
      "text/plain": [
       "[('hygienic', 0.72813880443573),\n",
       " ('sanitation', 0.6805286407470703),\n",
       " ('hygiene', 0.6576169729232788),\n",
       " ('cleanliness', 0.5477406978607178),\n",
       " ('disinfection', 0.5476149320602417),\n",
       " ('toilets', 0.5049561858177185),\n",
       " ('hygienically', 0.5028374195098877),\n",
       " ('disinfecting', 0.47032758593559265),\n",
       " ('handwash', 0.46137285232543945),\n",
       " ('disinfect', 0.455425500869751)]"
      ]
     },
     "execution_count": 22,
     "metadata": {
      "tags": []
     },
     "output_type": "execute_result"
    }
   ],
   "source": [
    "google_model.wv.most_similar(positive=[\"sanitary\"])"
   ]
  },
  {
   "cell_type": "code",
   "execution_count": null,
   "metadata": {
    "colab": {
     "base_uri": "https://localhost:8080/"
    },
    "id": "-aMwIGuiL1r_",
    "outputId": "8756aab6-184a-44f6-be08-dbe0616c7301"
   },
   "outputs": [
    {
     "data": {
      "text/plain": [
       "[('syrup', 0.6025190353393555),\n",
       " ('berry', 0.5947865843772888),\n",
       " ('almond', 0.5711919665336609),\n",
       " ('berries', 0.5597745776176453),\n",
       " ('chocolate', 0.5528981685638428),\n",
       " ('apricot', 0.5451957583427429),\n",
       " ('demerara', 0.5406525135040283),\n",
       " ('cranberries', 0.538276195526123),\n",
       " ('jellies', 0.5353303551673889),\n",
       " ('blueberry', 0.5352541208267212)]"
      ]
     },
     "execution_count": 23,
     "metadata": {
      "tags": []
     },
     "output_type": "execute_result"
    }
   ],
   "source": [
    "google_model.wv.most_similar(positive=[\"honey\"])"
   ]
  },
  {
   "cell_type": "code",
   "execution_count": null,
   "metadata": {
    "id": "urzEGwqWYmcO"
   },
   "outputs": [],
   "source": [
    "global word_embeddings\n",
    "word_embeddings = []\n",
    "\n",
    "for line in df['cleaned']:\n",
    "    avgword2vec = None\n",
    "    count = 0\n",
    "    for word in line.split():\n",
    "        if word in google_model.wv.vocab:\n",
    "            count += 1\n",
    "            if avgword2vec is None:\n",
    "                avgword2vec = google_model[word]\n",
    "            else:\n",
    "                avgword2vec = avgword2vec + google_model[word]\n",
    "            \n",
    "    if avgword2vec is not None:\n",
    "        avgword2vec = avgword2vec / count\n",
    "    \n",
    "        word_embeddings.append(avgword2vec)"
   ]
  },
  {
   "cell_type": "code",
   "execution_count": null,
   "metadata": {
    "id": "T95d6y7DZF8c"
   },
   "outputs": [],
   "source": [
    "\n",
    "def vectors2(x):\n",
    "    \n",
    "    global input_embeddings\n",
    "    input_embeddings = []\n",
    "\n",
    "\n",
    "    avgword2vec = None\n",
    "    count = 0\n",
    "    for word in x.split():\n",
    "        if word in google_model.wv.vocab:\n",
    "            count += 1\n",
    "            if avgword2vec is None:\n",
    "                avgword2vec = google_model[word]\n",
    "            else:\n",
    "                avgword2vec = avgword2vec + google_model[word]\n",
    "            \n",
    "    if avgword2vec is not None:\n",
    "        avgword2vec = avgword2vec / count\n",
    "    \n",
    "    input_embeddings.append(avgword2vec)\n",
    "    return input_embeddings\n"
   ]
  },
  {
   "cell_type": "code",
   "execution_count": null,
   "metadata": {
    "id": "VpUpg0RvY2t5"
   },
   "outputs": [],
   "source": [
    "def Nmaxelements(list1, N):\n",
    "    final_list = []\n",
    "    index_=[]\n",
    "    \n",
    "    for i in range(0, N): \n",
    "        max1 = 0\n",
    "        index=-1      \n",
    "        for j in range(len(list1)):     \n",
    "            if list1[j] > max1:\n",
    "                max1 = list1[j];\n",
    "                index=j  \n",
    "        list1.remove(max1);\n",
    "        index_.append(index)\n",
    "        final_list.append(max1)\n",
    "          \n",
    "    return index_"
   ]
  },
  {
   "cell_type": "code",
   "execution_count": null,
   "metadata": {
    "id": "7y77JNDfYmfp"
   },
   "outputs": [],
   "source": [
    "def recommend(str,N):\n",
    "  cosine_similarities = cosine_similarity(word_embeddings,vectors2(\"fever\"))\n",
    "  score=[]\n",
    "  for i in range(0,len(cosine_similarities)):\n",
    "    score.append(cosine_similarities[i][0])\n",
    "  index=Nmaxelements(score,N)\n",
    "  for i in index:\n",
    "    print(df[\"product_info\"][i])\n",
    "    print(df[\"desc\"][i])\n",
    "    print(\"----\")\n",
    "\n"
   ]
  },
  {
   "cell_type": "code",
   "execution_count": null,
   "metadata": {
    "colab": {
     "base_uri": "https://localhost:8080/"
    },
    "id": "LyRhi789kSRD",
    "outputId": "d7af8fd3-5893-4881-bc3e-2e1df59ae78f"
   },
   "outputs": [
    {
     "name": "stderr",
     "output_type": "stream",
     "text": [
      "/usr/local/lib/python3.7/dist-packages/ipykernel_launcher.py:14: DeprecationWarning: Call to deprecated `__getitem__` (Method will be removed in 4.0.0, use self.wv.__getitem__() instead).\n",
      "  \n"
     ]
    },
    {
     "name": "stdout",
     "output_type": "stream",
     "text": [
      "GUAPHA AYURVEDA AMRITARISHTA\n",
      "guapha-ayurveda-amritarishta-otc529271Guapha Ayurveda Amritarishta is an ayurvedic medicine used in the treatment of chronic fever, typhoid fever, infectious fever, cough, cold and other infectious diseases. It is natural immunity booster and helps the body to fight off bacterial as well as viral infections. Generally, it is used for debility after fever.3.9 5\n",
      "----\n",
      "BAIDYANATH SARIWADI BATI\n",
      "otc baidyanath-sariwadi-bati-otc424699Baidyanath Sariwadi Bati is an ayurvedic herbal medicine for treating ear infections and other ear ailments such as hearing disability, ear inflammation, ear pain etc. A widely used medicine in Indian Ayurveda, it is very helpful for treating tinnitus. Key Ingredients: Sariva - hemidesmus indicus. Cinnamon – cinnamomum.\n",
      "----\n",
      "REPL DR ADVICE NO.98 TYPHORIL DROP\n",
      " repl dr. advice no.98 typhoril drop 339456Information about REPL Dr. Advice No.98 Typhoril Drop Indication: Typhus fever, Shipboard fever, Adynamic fevers, Chill, With rheumatic pains and soreness all over body. Heat all over, with occasional chills. Septic conditions of the blood muscular soreness and putrid phenomena always are present.\n",
      "----\n",
      "ST GEORGE S TCT 01 NEURASTHENIA TABLET\n",
      "otc st.-george-s-tct-01-neurasthenia-tablet-otc388519Order St. George’s TCT 01 Neurasthenia Tablet:bottle of 30 gm Tablet online at best price in India. Know St. George’s TCT 01 Neurasthenia Tablet price, specifications, benefits and other information only on 1mg.comBrand: St. George’S\n",
      "----\n",
      "WHEEZAL WL47 TYPHOID DROP\n",
      " wheezal wl47 typhoid drop 387940Wheezal WL47 Typhoid Drop is a homeopathic formulation used for the treatment of typhoid that is caused by Salmonella typhi bacteria, which is primarily contracted by consuming bacteria, either by food and water. Key Constituents: • Baptisia Tinctoria 2X • Bryonia Alba 2X • Eucalyptus Globulus Q • Gelsemium Sempervirens 6C\n",
      "----\n",
      "REX ARAQ E MUSAFFI E KHOON QAWI\n",
      " rex araq e musaffi e khoon qawi 415342Information about Rex Araq E Musaffi E Khoon Qawi Rex M. Musaffi Khoon is a homeopathic medicine and natural blood purifier. It is indicated for boils, whelks, skin eruptions, pustules, and acne.\n",
      "----\n",
      "ST GEORGE S RHEU MIX PAINKILLER OIL\n",
      " st. george s rheu mix painkiller oil 498758St. Georgeâ€™s Rheu Mix Painkiller Oil is a homoeopathic remedy which is primarily used for the treatment of pains associated with rheumatism and arthritis. It effectively relieves pains in muscles, joints, lower back and shoulders. It can also be used to treat sprains from an injury. Key Ingredients: Rhus Tox.Q; Gaultheria Oil; Eucalytpus Oil\n",
      "----\n",
      "BIODERMA SUN PROTECTION COMBO ACNE PRONE SKIN\n",
      "bioderma-photoderm-akn-mat-sunscreen-spf-30...Optimum UVA UVB protection against the harmful effects of the sun (sunburn, sun intolerance, etc.) Activates the skin's natural defences, protects from risks of cellular damage and combats premature cutaneous ageing: Cellular Bioprotection. biological patent. Long-lasting matifying effect. Colourless upon application. No greasy effect, no white traces.\n",
      "----\n",
      "BAKSONS FLU AID TABLET\n",
      " bakson s flu aid tablet 327081Information about Bakson's Flu Aid Tablet. FLU AID TABLETS. For Influenza (Flu) INDICATIONS. Aids an instant and effective recovery from attacks of Coryza. To overcome an acute attack of flu, sneezing, runny nose, low to high grade fever, chilliness, headache, pain in bones and muscles, cough and general weakness.\n",
      "----\n",
      "SRI SRI TATTVA KABASURA KUDINEER TABLET\n",
      "05 2021 · Sri Sri Tattva Kabasura Kudineer 500mg Tablet. bottle of 60 tablets. 4.6. 71 ratings. MRP ₹ 130 10% off. ₹ 117. Krishna Kabasuranam Kudineer (100gm Each) packet of 2 powders. MRP ₹ 500 25% off.\n",
      "----\n"
     ]
    }
   ],
   "source": [
    "recommend(\"cold cough\",10)"
   ]
  },
  {
   "cell_type": "code",
   "execution_count": null,
   "metadata": {
    "id": "yMUptT7rkdg4"
   },
   "outputs": [],
   "source": []
  },
  {
   "cell_type": "code",
   "execution_count": null,
   "metadata": {
    "id": "bSMQaPR0HaHO"
   },
   "outputs": [],
   "source": [
    "\n",
    "tfidf = TfidfVectorizer(analyzer='word', ngram_range=(1, 3), min_df = 5, stop_words='english')\n",
    "tfidf.fit(df['cleaned'])\n",
    "\n",
    "\n",
    "tfidf_list = dict(zip(tfidf.get_feature_names(), list(tfidf.idf_)))\n",
    "tfidf_feature = tfidf.get_feature_names() "
   ]
  },
  {
   "cell_type": "code",
   "execution_count": null,
   "metadata": {
    "id": "5VF57wlpYthu"
   },
   "outputs": [],
   "source": [
    "# Building TF-IDF Word2Vec \n",
    "\n",
    "tfidf_vectors = []; \n",
    "line = 0;\n",
    "for desc in corpus: \n",
    "    sent_vec = np.zeros(300) \n",
    "    weight_sum =0; \n",
    "    for word in desc: \n",
    "        if word in google_model.wv.vocab and word in tfidf_feature:\n",
    "            vec = google_model.wv[word]\n",
    "            tf_idf = tfidf_list[word] * (desc.count(word) / len(desc))\n",
    "            sent_vec += (vec * tf_idf)\n",
    "            weight_sum += tf_idf\n",
    "    if weight_sum != 0:\n",
    "        sent_vec /= weight_sum\n",
    "    tfidf_vectors.append(sent_vec)\n",
    "    line += 1"
   ]
  },
  {
   "cell_type": "code",
   "execution_count": null,
   "metadata": {
    "id": "WpxbXlHUY0Bg"
   },
   "outputs": [],
   "source": []
  }
 ],
 "metadata": {
  "accelerator": "GPU",
  "colab": {
   "collapsed_sections": [],
   "name": "Copy of Recommendation_Word2Vec.ipynb",
   "provenance": []
  },
  "kernelspec": {
   "display_name": "Python 3",
   "language": "python",
   "name": "python3"
  },
  "language_info": {
   "codemirror_mode": {
    "name": "ipython",
    "version": 3
   },
   "file_extension": ".py",
   "mimetype": "text/x-python",
   "name": "python",
   "nbconvert_exporter": "python",
   "pygments_lexer": "ipython3",
   "version": "3.7.10"
  }
 },
 "nbformat": 4,
 "nbformat_minor": 1
}
