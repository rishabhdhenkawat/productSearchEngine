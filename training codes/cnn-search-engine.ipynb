{
 "cells": [
  {
   "cell_type": "code",
   "execution_count": 1,
   "metadata": {
    "_cell_guid": "270977f6-ba10-4672-b34e-abb58897d7ce",
    "_uuid": "bd2e3765fddd6f190239b2e2100e001d77851e64",
    "execution": {
     "iopub.execute_input": "2021-07-13T17:02:45.126940Z",
     "iopub.status.busy": "2021-07-13T17:02:45.126606Z",
     "iopub.status.idle": "2021-07-13T17:02:47.081139Z",
     "shell.execute_reply": "2021-07-13T17:02:47.080302Z",
     "shell.execute_reply.started": "2021-07-13T17:02:45.126882Z"
    }
   },
   "outputs": [
    {
     "name": "stderr",
     "output_type": "stream",
     "text": [
      "Using TensorFlow backend.\n"
     ]
    }
   ],
   "source": [
    "import os\n",
    "import numpy as np\n",
    "from keras.layers import Activation, Conv1D, Dense, Embedding, Flatten, Input, MaxPooling1D\n",
    "from keras.models import Sequential\n",
    "from keras.preprocessing.text import Tokenizer\n",
    "from keras.preprocessing.sequence import pad_sequences\n",
    "from sklearn.datasets import fetch_20newsgroups\n",
    "from sklearn.datasets.base import get_data_home\n",
    "from keras.metrics import categorical_accuracy\n"
   ]
  },
  {
   "cell_type": "code",
   "execution_count": 2,
   "metadata": {
    "execution": {
     "iopub.execute_input": "2021-07-13T17:03:16.090818Z",
     "iopub.status.busy": "2021-07-13T17:03:16.090505Z",
     "iopub.status.idle": "2021-07-13T17:03:16.806935Z",
     "shell.execute_reply": "2021-07-13T17:03:16.805984Z",
     "shell.execute_reply.started": "2021-07-13T17:03:16.090780Z"
    }
   },
   "outputs": [],
   "source": [
    "import pandas as pd\n",
    "df=pd.read_csv(\"../input/cluster/productInfoClusters.csv\")"
   ]
  },
  {
   "cell_type": "code",
   "execution_count": 3,
   "metadata": {
    "execution": {
     "iopub.execute_input": "2021-07-13T17:03:20.266949Z",
     "iopub.status.busy": "2021-07-13T17:03:20.266655Z",
     "iopub.status.idle": "2021-07-13T17:03:20.280560Z",
     "shell.execute_reply": "2021-07-13T17:03:20.279572Z",
     "shell.execute_reply.started": "2021-07-13T17:03:20.266905Z"
    }
   },
   "outputs": [],
   "source": [
    "texts=list(df[\"desc\"])\n",
    "target=list(df[\"cluster\"])"
   ]
  },
  {
   "cell_type": "code",
   "execution_count": 7,
   "metadata": {
    "_cell_guid": "871a54eb-afde-43db-8b2c-5587b213dfb1",
    "_uuid": "741517fad88d52a561884dbfdc3b8dcc82e0e886",
    "execution": {
     "iopub.execute_input": "2021-07-13T17:03:33.359078Z",
     "iopub.status.busy": "2021-07-13T17:03:33.358794Z",
     "iopub.status.idle": "2021-07-13T17:03:33.365678Z",
     "shell.execute_reply": "2021-07-13T17:03:33.364754Z",
     "shell.execute_reply.started": "2021-07-13T17:03:33.359033Z"
    }
   },
   "outputs": [
    {
     "name": "stdout",
     "output_type": "stream",
     "text": [
      "[0, 0, 0, 0, 0, 0, 0, 0, 0, 0, 0, 0, 0, 0, 0, 0, 1, 1, 1, 1, 1, 1, 1, 1, 1, 1, 1, 1, 2, 2, 2, 2, 2, 2, 2, 2, 2, 2, 2, 2, 2, 2, 2, 2, 2, 2, 2, 2, 2, 2, 2, 2, 2, 2, 2, 2, 2, 2, 2, 2, 2, 2, 2, 2, 2, 2, 2, 2, 2, 2, 2, 2, 2, 2, 2, 2, 2, 2, 2, 2, 2, 2, 2, 2, 2, 2, 2, 2, 2, 2, 2, 2, 2, 2, 2, 2, 2, 2, 2, 2]\n",
      "66397\n",
      "66397\n",
      "63\n",
      "fabbox chaat mix nut 510170information about fabbox chaat mix nut fabbox chaat is loaded with fiber and protein it helps to improve the digestive functions of the body and may assist in weight management the ingredients used in the product are helpful in improving the immunity level of the body in addition to this , it is useful in managing the haemoglobin production\n",
      "0\n"
     ]
    }
   ],
   "source": [
    "print (target[:100])\n",
    "\n",
    "print (len(texts))\n",
    "print (len(target))\n",
    "print (len(texts[0].split()))\n",
    "print (texts[0])\n",
    "print (target[0])\n"
   ]
  },
  {
   "cell_type": "code",
   "execution_count": 8,
   "metadata": {
    "_cell_guid": "84268d63-7f77-4bdd-97a2-a8279b340847",
    "_uuid": "fd1a639cd290c49cc97bda64efb514fafd7f299e",
    "execution": {
     "iopub.execute_input": "2021-07-13T17:03:35.168740Z",
     "iopub.status.busy": "2021-07-13T17:03:35.168379Z",
     "iopub.status.idle": "2021-07-13T17:03:42.835991Z",
     "shell.execute_reply": "2021-07-13T17:03:42.834874Z",
     "shell.execute_reply.started": "2021-07-13T17:03:35.168676Z"
    }
   },
   "outputs": [],
   "source": [
    "vocab_size = 20000\n",
    "\n",
    "tokenizer = Tokenizer(num_words=vocab_size) # Setup tokenizer\n",
    "tokenizer.fit_on_texts(texts)\n",
    "sequences = tokenizer.texts_to_sequences(texts) # Generate sequences"
   ]
  },
  {
   "cell_type": "code",
   "execution_count": 9,
   "metadata": {
    "_cell_guid": "6d2891a0-637d-4696-bbf5-db39250a41af",
    "_uuid": "1e64c08432e9a5404b8147a650748a3ebbaa0243",
    "execution": {
     "iopub.execute_input": "2021-07-13T17:03:42.837787Z",
     "iopub.status.busy": "2021-07-13T17:03:42.837482Z",
     "iopub.status.idle": "2021-07-13T17:03:42.843739Z",
     "shell.execute_reply": "2021-07-13T17:03:42.842797Z",
     "shell.execute_reply.started": "2021-07-13T17:03:42.837743Z"
    }
   },
   "outputs": [
    {
     "name": "stdout",
     "output_type": "stream",
     "text": [
      "[[2156, 1876, 107, 77]]\n",
      "66397\n",
      "61\n",
      "[1095, 5366, 356, 1872, 73, 1095, 5366, 356, 1872, 1095, 5366, 4, 1801, 14, 1377, 1, 60, 7, 33, 8, 388, 3, 353, 487, 2, 3, 47, 1, 288, 2023, 5, 190, 616, 3, 50, 39, 5, 3, 119, 107, 215, 5, 464, 3, 293, 499, 2, 3, 47, 5, 649, 8, 63, 7, 4, 100, 5, 2010, 3, 2192, 657]\n"
     ]
    }
   ],
   "source": [
    "print (tokenizer.texts_to_sequences(['Hello King, how are you?']))\n",
    "\n",
    "print (len(sequences))\n",
    "print (len(sequences[0]))\n",
    "print (sequences[0])\n"
   ]
  },
  {
   "cell_type": "code",
   "execution_count": 10,
   "metadata": {
    "_cell_guid": "76757929-31f2-4a85-929e-011499407245",
    "_uuid": "069169b21fdea43c6334ecd2c9307031c3460f70",
    "execution": {
     "iopub.execute_input": "2021-07-13T17:03:42.845285Z",
     "iopub.status.busy": "2021-07-13T17:03:42.845031Z",
     "iopub.status.idle": "2021-07-13T17:03:42.857771Z",
     "shell.execute_reply": "2021-07-13T17:03:42.856856Z",
     "shell.execute_reply.started": "2021-07-13T17:03:42.845238Z"
    }
   },
   "outputs": [
    {
     "name": "stdout",
     "output_type": "stream",
     "text": [
      "Found 80,340 unique words.\n"
     ]
    }
   ],
   "source": [
    "word_index = tokenizer.word_index\n",
    "print('Found {:,} unique words.'.format(len(word_index)))"
   ]
  },
  {
   "cell_type": "code",
   "execution_count": 11,
   "metadata": {
    "_cell_guid": "adca0ca9-dcee-403c-9887-5b8102d375eb",
    "_uuid": "99510c98db9a325e2025534b3cb1ccf9d5258238",
    "execution": {
     "iopub.execute_input": "2021-07-13T17:03:42.859834Z",
     "iopub.status.busy": "2021-07-13T17:03:42.859486Z",
     "iopub.status.idle": "2021-07-13T17:03:42.883200Z",
     "shell.execute_reply": "2021-07-13T17:03:42.882364Z",
     "shell.execute_reply.started": "2021-07-13T17:03:42.859781Z"
    },
    "scrolled": true
   },
   "outputs": [
    {
     "name": "stdout",
     "output_type": "stream",
     "text": [
      "fabbox chaat mix nut about fabbox chaat mix nut fabbox chaat is loaded with fiber and protein it helps to improve the digestive functions of the body and may assist in weight management the ingredients used in the product are helpful in improving the immunity level of the body in addition to this it is useful in managing the haemoglobin production "
     ]
    }
   ],
   "source": [
    "inv_index = {v: k for k, v in tokenizer.word_index.items()}\n",
    "\n",
    "for w in sequences[0]:\n",
    "    x = inv_index.get(w)\n",
    "    print(x,end = ' ')"
   ]
  },
  {
   "cell_type": "code",
   "execution_count": 12,
   "metadata": {
    "_cell_guid": "319d4933-115a-49eb-ac34-7976e2ae2b2b",
    "_uuid": "6a2a5104a4a345c1bd93d042734b5034dba631c7",
    "execution": {
     "iopub.execute_input": "2021-07-13T17:03:42.884788Z",
     "iopub.status.busy": "2021-07-13T17:03:42.884502Z",
     "iopub.status.idle": "2021-07-13T17:03:42.928054Z",
     "shell.execute_reply": "2021-07-13T17:03:42.927207Z",
     "shell.execute_reply.started": "2021-07-13T17:03:42.884735Z"
    }
   },
   "outputs": [
    {
     "data": {
      "text/plain": [
       "(51.09285058059852, 13.410962595571412)"
      ]
     },
     "execution_count": 12,
     "metadata": {},
     "output_type": "execute_result"
    }
   ],
   "source": [
    "avg = sum(map(len, sequences)) / len(sequences)\n",
    "\n",
    "std = np.sqrt(sum(map(lambda x: (len(x) - avg)**2, sequences)) / len(sequences))\n",
    "\n",
    "avg,std"
   ]
  },
  {
   "cell_type": "code",
   "execution_count": 13,
   "metadata": {
    "_cell_guid": "8318d64f-ad1b-4e75-9e56-341345c31ffb",
    "_uuid": "75e30eb5a7aab59d4dd44c3ed25e5d3a22f08e7b",
    "execution": {
     "iopub.execute_input": "2021-07-13T17:03:55.905120Z",
     "iopub.status.busy": "2021-07-13T17:03:55.904741Z",
     "iopub.status.idle": "2021-07-13T17:03:55.913321Z",
     "shell.execute_reply": "2021-07-13T17:03:55.912225Z",
     "shell.execute_reply.started": "2021-07-13T17:03:55.905001Z"
    }
   },
   "outputs": [
    {
     "name": "stdout",
     "output_type": "stream",
     "text": [
      "[[0 0 1 2 3]]\n",
      "[[2 3 4 5 6]]\n"
     ]
    }
   ],
   "source": [
    "print(pad_sequences([[1,2,3]], maxlen=5))\n",
    "print(pad_sequences([[1,2,3,4,5,6]], maxlen=5))"
   ]
  },
  {
   "cell_type": "code",
   "execution_count": 14,
   "metadata": {
    "_cell_guid": "53020108-b7bb-4ea3-93c9-e39f59c03336",
    "_uuid": "2278bc08b537e9c80560c08a1f34a002d079302c",
    "execution": {
     "iopub.execute_input": "2021-07-13T17:03:56.364175Z",
     "iopub.status.busy": "2021-07-13T17:03:56.363860Z",
     "iopub.status.idle": "2021-07-13T17:03:57.586881Z",
     "shell.execute_reply": "2021-07-13T17:03:57.585780Z",
     "shell.execute_reply.started": "2021-07-13T17:03:56.364111Z"
    }
   },
   "outputs": [],
   "source": [
    "max_length = 100\n",
    "data = pad_sequences(sequences, maxlen=max_length)"
   ]
  },
  {
   "cell_type": "code",
   "execution_count": 15,
   "metadata": {
    "_cell_guid": "9bc07094-3eea-4284-870a-1c944d890709",
    "_uuid": "4d3bb2cdd37e893a1979bdb5e605b03ca05a52f1",
    "execution": {
     "iopub.execute_input": "2021-07-13T17:03:57.588654Z",
     "iopub.status.busy": "2021-07-13T17:03:57.588246Z",
     "iopub.status.idle": "2021-07-13T17:03:57.791308Z",
     "shell.execute_reply": "2021-07-13T17:03:57.790335Z",
     "shell.execute_reply.started": "2021-07-13T17:03:57.588483Z"
    }
   },
   "outputs": [
    {
     "name": "stdout",
     "output_type": "stream",
     "text": [
      "Shape of data: (66397, 100)\n",
      "Shape of labels: (66397, 1000)\n",
      "0\n",
      "[1. 0. 0. 0. 0. 0. 0. 0. 0. 0. 0. 0. 0. 0. 0. 0. 0. 0. 0. 0. 0. 0. 0. 0.\n",
      " 0. 0. 0. 0. 0. 0. 0. 0. 0. 0. 0. 0. 0. 0. 0. 0. 0. 0. 0. 0. 0. 0. 0. 0.\n",
      " 0. 0. 0. 0. 0. 0. 0. 0. 0. 0. 0. 0. 0. 0. 0. 0. 0. 0. 0. 0. 0. 0. 0. 0.\n",
      " 0. 0. 0. 0. 0. 0. 0. 0. 0. 0. 0. 0. 0. 0. 0. 0. 0. 0. 0. 0. 0. 0. 0. 0.\n",
      " 0. 0. 0. 0. 0. 0. 0. 0. 0. 0. 0. 0. 0. 0. 0. 0. 0. 0. 0. 0. 0. 0. 0. 0.\n",
      " 0. 0. 0. 0. 0. 0. 0. 0. 0. 0. 0. 0. 0. 0. 0. 0. 0. 0. 0. 0. 0. 0. 0. 0.\n",
      " 0. 0. 0. 0. 0. 0. 0. 0. 0. 0. 0. 0. 0. 0. 0. 0. 0. 0. 0. 0. 0. 0. 0. 0.\n",
      " 0. 0. 0. 0. 0. 0. 0. 0. 0. 0. 0. 0. 0. 0. 0. 0. 0. 0. 0. 0. 0. 0. 0. 0.\n",
      " 0. 0. 0. 0. 0. 0. 0. 0. 0. 0. 0. 0. 0. 0. 0. 0. 0. 0. 0. 0. 0. 0. 0. 0.\n",
      " 0. 0. 0. 0. 0. 0. 0. 0. 0. 0. 0. 0. 0. 0. 0. 0. 0. 0. 0. 0. 0. 0. 0. 0.\n",
      " 0. 0. 0. 0. 0. 0. 0. 0. 0. 0. 0. 0. 0. 0. 0. 0. 0. 0. 0. 0. 0. 0. 0. 0.\n",
      " 0. 0. 0. 0. 0. 0. 0. 0. 0. 0. 0. 0. 0. 0. 0. 0. 0. 0. 0. 0. 0. 0. 0. 0.\n",
      " 0. 0. 0. 0. 0. 0. 0. 0. 0. 0. 0. 0. 0. 0. 0. 0. 0. 0. 0. 0. 0. 0. 0. 0.\n",
      " 0. 0. 0. 0. 0. 0. 0. 0. 0. 0. 0. 0. 0. 0. 0. 0. 0. 0. 0. 0. 0. 0. 0. 0.\n",
      " 0. 0. 0. 0. 0. 0. 0. 0. 0. 0. 0. 0. 0. 0. 0. 0. 0. 0. 0. 0. 0. 0. 0. 0.\n",
      " 0. 0. 0. 0. 0. 0. 0. 0. 0. 0. 0. 0. 0. 0. 0. 0. 0. 0. 0. 0. 0. 0. 0. 0.\n",
      " 0. 0. 0. 0. 0. 0. 0. 0. 0. 0. 0. 0. 0. 0. 0. 0. 0. 0. 0. 0. 0. 0. 0. 0.\n",
      " 0. 0. 0. 0. 0. 0. 0. 0. 0. 0. 0. 0. 0. 0. 0. 0. 0. 0. 0. 0. 0. 0. 0. 0.\n",
      " 0. 0. 0. 0. 0. 0. 0. 0. 0. 0. 0. 0. 0. 0. 0. 0. 0. 0. 0. 0. 0. 0. 0. 0.\n",
      " 0. 0. 0. 0. 0. 0. 0. 0. 0. 0. 0. 0. 0. 0. 0. 0. 0. 0. 0. 0. 0. 0. 0. 0.\n",
      " 0. 0. 0. 0. 0. 0. 0. 0. 0. 0. 0. 0. 0. 0. 0. 0. 0. 0. 0. 0. 0. 0. 0. 0.\n",
      " 0. 0. 0. 0. 0. 0. 0. 0. 0. 0. 0. 0. 0. 0. 0. 0. 0. 0. 0. 0. 0. 0. 0. 0.\n",
      " 0. 0. 0. 0. 0. 0. 0. 0. 0. 0. 0. 0. 0. 0. 0. 0. 0. 0. 0. 0. 0. 0. 0. 0.\n",
      " 0. 0. 0. 0. 0. 0. 0. 0. 0. 0. 0. 0. 0. 0. 0. 0. 0. 0. 0. 0. 0. 0. 0. 0.\n",
      " 0. 0. 0. 0. 0. 0. 0. 0. 0. 0. 0. 0. 0. 0. 0. 0. 0. 0. 0. 0. 0. 0. 0. 0.\n",
      " 0. 0. 0. 0. 0. 0. 0. 0. 0. 0. 0. 0. 0. 0. 0. 0. 0. 0. 0. 0. 0. 0. 0. 0.\n",
      " 0. 0. 0. 0. 0. 0. 0. 0. 0. 0. 0. 0. 0. 0. 0. 0. 0. 0. 0. 0. 0. 0. 0. 0.\n",
      " 0. 0. 0. 0. 0. 0. 0. 0. 0. 0. 0. 0. 0. 0. 0. 0. 0. 0. 0. 0. 0. 0. 0. 0.\n",
      " 0. 0. 0. 0. 0. 0. 0. 0. 0. 0. 0. 0. 0. 0. 0. 0. 0. 0. 0. 0. 0. 0. 0. 0.\n",
      " 0. 0. 0. 0. 0. 0. 0. 0. 0. 0. 0. 0. 0. 0. 0. 0. 0. 0. 0. 0. 0. 0. 0. 0.\n",
      " 0. 0. 0. 0. 0. 0. 0. 0. 0. 0. 0. 0. 0. 0. 0. 0. 0. 0. 0. 0. 0. 0. 0. 0.\n",
      " 0. 0. 0. 0. 0. 0. 0. 0. 0. 0. 0. 0. 0. 0. 0. 0. 0. 0. 0. 0. 0. 0. 0. 0.\n",
      " 0. 0. 0. 0. 0. 0. 0. 0. 0. 0. 0. 0. 0. 0. 0. 0. 0. 0. 0. 0. 0. 0. 0. 0.\n",
      " 0. 0. 0. 0. 0. 0. 0. 0. 0. 0. 0. 0. 0. 0. 0. 0. 0. 0. 0. 0. 0. 0. 0. 0.\n",
      " 0. 0. 0. 0. 0. 0. 0. 0. 0. 0. 0. 0. 0. 0. 0. 0. 0. 0. 0. 0. 0. 0. 0. 0.\n",
      " 0. 0. 0. 0. 0. 0. 0. 0. 0. 0. 0. 0. 0. 0. 0. 0. 0. 0. 0. 0. 0. 0. 0. 0.\n",
      " 0. 0. 0. 0. 0. 0. 0. 0. 0. 0. 0. 0. 0. 0. 0. 0. 0. 0. 0. 0. 0. 0. 0. 0.\n",
      " 0. 0. 0. 0. 0. 0. 0. 0. 0. 0. 0. 0. 0. 0. 0. 0. 0. 0. 0. 0. 0. 0. 0. 0.\n",
      " 0. 0. 0. 0. 0. 0. 0. 0. 0. 0. 0. 0. 0. 0. 0. 0. 0. 0. 0. 0. 0. 0. 0. 0.\n",
      " 0. 0. 0. 0. 0. 0. 0. 0. 0. 0. 0. 0. 0. 0. 0. 0. 0. 0. 0. 0. 0. 0. 0. 0.\n",
      " 0. 0. 0. 0. 0. 0. 0. 0. 0. 0. 0. 0. 0. 0. 0. 0. 0. 0. 0. 0. 0. 0. 0. 0.\n",
      " 0. 0. 0. 0. 0. 0. 0. 0. 0. 0. 0. 0. 0. 0. 0. 0.]\n"
     ]
    }
   ],
   "source": [
    "from keras.utils import to_categorical\n",
    "labels = to_categorical(np.asarray(target))\n",
    "print('Shape of data:', data.shape)\n",
    "print('Shape of labels:', labels.shape)\n",
    "\n",
    "print (target[0])\n",
    "print (labels[0])"
   ]
  },
  {
   "cell_type": "code",
   "execution_count": 16,
   "metadata": {
    "_cell_guid": "26fa63f3-bd92-4aab-9280-b270dbdee4ce",
    "_uuid": "3b981a5596e00038ed900e76be33ba89b9561cb1",
    "execution": {
     "iopub.execute_input": "2021-07-13T17:04:00.793272Z",
     "iopub.status.busy": "2021-07-13T17:04:00.792963Z",
     "iopub.status.idle": "2021-07-13T17:04:22.273578Z",
     "shell.execute_reply": "2021-07-13T17:04:22.272596Z",
     "shell.execute_reply.started": "2021-07-13T17:04:00.793223Z"
    }
   },
   "outputs": [
    {
     "name": "stdout",
     "output_type": "stream",
     "text": [
      "Found 400,000 word vectors in GloVe.\n"
     ]
    }
   ],
   "source": [
    "glove_dir = '../input/glove-global-vectors-for-word-representation' # This is the folder with the dataset\n",
    "\n",
    "embeddings_index = {} # We create a dictionary of word -> embedding\n",
    "\n",
    "with open(os.path.join(glove_dir, 'glove.6B.100d.txt')) as f:\n",
    "    for line in f:\n",
    "        values = line.split()\n",
    "        word = values[0] # The first value is the word, the rest are the values of the embedding\n",
    "        embedding = np.asarray(values[1:], dtype='float32') # Load embedding\n",
    "        embeddings_index[word] = embedding # Add embedding to our embedding dictionary\n",
    "\n",
    "print('Found {:,} word vectors in GloVe.'.format(len(embeddings_index)))"
   ]
  },
  {
   "cell_type": "code",
   "execution_count": 17,
   "metadata": {
    "_cell_guid": "e1b966ae-73a2-4f53-9cf3-682ad69a8b09",
    "_uuid": "1fdcf5986dd815d3ddfdf7e29568e4895c8b54e9",
    "execution": {
     "iopub.execute_input": "2021-07-13T17:04:22.275398Z",
     "iopub.status.busy": "2021-07-13T17:04:22.275097Z",
     "iopub.status.idle": "2021-07-13T17:04:22.282633Z",
     "shell.execute_reply": "2021-07-13T17:04:22.281087Z",
     "shell.execute_reply.started": "2021-07-13T17:04:22.275328Z"
    }
   },
   "outputs": [
    {
     "name": "stdout",
     "output_type": "stream",
     "text": [
      "[ 0.043084   0.53233    0.54254   -0.076952  -0.29673    0.52986\n",
      "  0.21379    0.15789   -0.3952    -0.91889   -0.6585     0.68706\n",
      "  0.10821   -0.10694   -0.3401     1.044      0.12775    0.51157\n",
      "  0.60314    0.71366   -0.5374     0.37737    0.12186    0.60891\n",
      "  0.50107    2.0215    -0.47318    0.46953    0.12542    0.60207\n",
      "  0.11007    0.37587    1.0137    -0.2478     0.65748    0.12801\n",
      " -0.57647   -0.25754    0.62426    0.010864  -0.40681    0.16173\n",
      " -0.84695   -0.24603    0.29078    0.8546    -0.067021   0.69331\n",
      " -0.71545   -0.25184   -0.74741   -0.26507    0.4873     0.41991\n",
      " -0.86741   -0.5235    -0.44774   -0.044584   0.033836   0.29909\n",
      "  0.73754    0.81651    0.69431    0.80453    0.29276   -0.025244\n",
      " -0.30453   -0.34329    0.11933   -0.29655    0.1072    -0.18946\n",
      "  0.18501   -0.7548    -0.25628    0.34438   -0.016743   0.0040503\n",
      "  0.39342    0.99404   -0.32159   -0.49434    0.41708   -0.011019\n",
      " -0.16613   -0.20839    0.28152   -0.82996    0.79839    0.61645\n",
      "  0.31537   -0.27629   -0.54592    0.23026    0.023473  -0.15934\n",
      " -1.4389    -0.75359    0.5149    -0.52552  ]\n",
      "100\n"
     ]
    }
   ],
   "source": [
    "print (embeddings_index['frog'])\n",
    "print (len(embeddings_index['frog']))"
   ]
  },
  {
   "cell_type": "code",
   "execution_count": 18,
   "metadata": {
    "_cell_guid": "4578a176-4e75-46e5-b827-e37a3cf12620",
    "_uuid": "e293d3a3aa91070e39d8262591eea41b9b816452",
    "execution": {
     "iopub.execute_input": "2021-07-13T17:04:22.285121Z",
     "iopub.status.busy": "2021-07-13T17:04:22.284494Z",
     "iopub.status.idle": "2021-07-13T17:04:22.301759Z",
     "shell.execute_reply": "2021-07-13T17:04:22.299962Z",
     "shell.execute_reply.started": "2021-07-13T17:04:22.285025Z"
    }
   },
   "outputs": [
    {
     "name": "stdout",
     "output_type": "stream",
     "text": [
      "3.364068\n",
      "5.197995\n",
      "4.1249743\n",
      "6.7943544\n",
      "7.3115597\n",
      "6.5261197\n",
      "7.450874\n"
     ]
    }
   ],
   "source": [
    "print (np.linalg.norm(embeddings_index['man'] - embeddings_index['woman']))\n",
    "print (np.linalg.norm(embeddings_index['man'] - embeddings_index['cat']))\n",
    "\n",
    "# https://nlp.stanford.edu/projects/glove/\n",
    "print (np.linalg.norm(embeddings_index['frog'] - embeddings_index['toad']))\n",
    "print (np.linalg.norm(embeddings_index['frog'] - embeddings_index['man']))\n",
    "\n",
    "print (np.linalg.norm(embeddings_index['frog'] - embeddings_index['fog']))\n",
    "\n",
    "print (np.linalg.norm(embeddings_index['frog'] - embeddings_index['fork']))\n",
    "print (np.linalg.norm(embeddings_index['frog'] - embeddings_index['skyscraper']))"
   ]
  },
  {
   "cell_type": "code",
   "execution_count": 19,
   "metadata": {
    "_cell_guid": "8d9a3a8f-fde2-48ce-af98-71591cdbe180",
    "_uuid": "9375f22be07d4fbba8ff316c4119e9f415ee656d",
    "execution": {
     "iopub.execute_input": "2021-07-13T17:04:26.556871Z",
     "iopub.status.busy": "2021-07-13T17:04:26.556562Z",
     "iopub.status.idle": "2021-07-13T17:04:26.625312Z",
     "shell.execute_reply": "2021-07-13T17:04:26.624412Z",
     "shell.execute_reply.started": "2021-07-13T17:04:26.556821Z"
    }
   },
   "outputs": [],
   "source": [
    "embedding_dim = 100 \n",
    "\n",
    "word_index = tokenizer.word_index\n",
    "nb_words = min(vocab_size, len(word_index)) \n",
    "\n",
    "embedding_matrix = np.zeros((nb_words, embedding_dim))\n",
    "\n",
    "\n",
    "\n",
    "# Loop over all words in the word index\n",
    "for word, i in word_index.items():\n",
    "    if i >= vocab_size: \n",
    "        continue\n",
    "    embedding_vector = embeddings_index.get(word)\n",
    "    if embedding_vector is not None: \n",
    "        embedding_matrix[i] = embedding_vector"
   ]
  },
  {
   "cell_type": "code",
   "execution_count": 21,
   "metadata": {
    "_uuid": "79244ba7299c991561eed3f57fbac27d280236f5",
    "execution": {
     "iopub.execute_input": "2021-07-13T17:04:30.423976Z",
     "iopub.status.busy": "2021-07-13T17:04:30.423701Z",
     "iopub.status.idle": "2021-07-13T17:04:30.430630Z",
     "shell.execute_reply": "2021-07-13T17:04:30.429426Z",
     "shell.execute_reply.started": "2021-07-13T17:04:30.423941Z"
    }
   },
   "outputs": [
    {
     "name": "stdout",
     "output_type": "stream",
     "text": [
      "[-0.97009999  0.46821001 -0.26833999  0.67043     0.08871    -0.50788999\n",
      "  0.11278    -0.46291     0.19719    -0.39083001  0.11516    -0.88141\n",
      " -0.095489   -0.19320001  0.65420997  0.16756999  0.086689    0.053819\n",
      "  0.14595     0.52494001  0.064429   -0.15729    -0.095941   -0.62295002\n",
      " -0.27015001 -0.16057    -0.10939     0.16812    -0.41207001  0.24502\n",
      " -0.48752999  0.35940999 -0.56217003 -0.52328998  0.70499003  0.19002999\n",
      " -0.55140001 -0.099501   -0.31659001 -0.31090999 -0.18102001  0.22955\n",
      "  0.31253001 -0.72369999 -0.54198003 -0.090034    0.47733     0.032755\n",
      " -0.52503997 -0.48995     0.74817997 -0.20234001  0.18415     0.68781\n",
      " -0.068136   -0.99438     0.10891    -0.30967     1.40429997 -0.23582\n",
      " -0.56765002  0.82108003 -0.27794001  0.25086999  0.99915999 -0.18415\n",
      "  0.62770998 -0.13185     0.46809    -0.49638    -0.10746    -0.34309\n",
      "  0.92546999 -0.19316     0.44694     0.028827   -0.027924   -0.25466999\n",
      " -0.42717001 -0.28876001  0.3664      0.40121999 -0.86979997 -0.49362999\n",
      " -1.60189998  0.77631003  0.98079997  0.35297999 -0.78359002 -0.35673001\n",
      " -0.55091     0.27107     0.69169003 -0.42076999  0.029862   -0.046423\n",
      " -0.34432    -1.0237      0.30700001  1.01059997]\n"
     ]
    }
   ],
   "source": [
    "print (embedding_matrix[100])"
   ]
  },
  {
   "cell_type": "code",
   "execution_count": 24,
   "metadata": {
    "_cell_guid": "247e1cba-19ed-4153-8bd1-486a95e8af06",
    "_uuid": "a9fec5775edfc68a6b4f5c4c87cee9cd91248072",
    "execution": {
     "iopub.execute_input": "2021-07-13T17:04:39.280062Z",
     "iopub.status.busy": "2021-07-13T17:04:39.279742Z",
     "iopub.status.idle": "2021-07-13T17:04:39.575496Z",
     "shell.execute_reply": "2021-07-13T17:04:39.574521Z",
     "shell.execute_reply.started": "2021-07-13T17:04:39.280005Z"
    }
   },
   "outputs": [
    {
     "name": "stdout",
     "output_type": "stream",
     "text": [
      "_________________________________________________________________\n",
      "Layer (type)                 Output Shape              Param #   \n",
      "=================================================================\n",
      "embedding_3 (Embedding)      (None, 100, 100)          2000000   \n",
      "_________________________________________________________________\n",
      "conv1d_7 (Conv1D)            (None, 98, 128)           38528     \n",
      "_________________________________________________________________\n",
      "max_pooling1d_7 (MaxPooling1 (None, 32, 128)           0         \n",
      "_________________________________________________________________\n",
      "conv1d_8 (Conv1D)            (None, 30, 128)           49280     \n",
      "_________________________________________________________________\n",
      "max_pooling1d_8 (MaxPooling1 (None, 10, 128)           0         \n",
      "_________________________________________________________________\n",
      "conv1d_9 (Conv1D)            (None, 8, 128)            49280     \n",
      "_________________________________________________________________\n",
      "max_pooling1d_9 (MaxPooling1 (None, 2, 128)            0         \n",
      "_________________________________________________________________\n",
      "flatten_3 (Flatten)          (None, 256)               0         \n",
      "_________________________________________________________________\n",
      "dense_5 (Dense)              (None, 128)               32896     \n",
      "_________________________________________________________________\n",
      "dense_6 (Dense)              (None, 1000)              129000    \n",
      "=================================================================\n",
      "Total params: 2,298,984\n",
      "Trainable params: 298,984\n",
      "Non-trainable params: 2,000,000\n",
      "_________________________________________________________________\n"
     ]
    }
   ],
   "source": [
    "model = Sequential()\n",
    "model.add(Embedding(vocab_size, \n",
    "                    embedding_dim, \n",
    "                    input_length=max_length, \n",
    "                    weights = [embedding_matrix], \n",
    "                    trainable = False))\n",
    "model.add(Conv1D(128, 3, activation='relu'))\n",
    "model.add(MaxPooling1D(3))\n",
    "model.add(Conv1D(128, 3, activation='relu'))\n",
    "model.add(MaxPooling1D(3))\n",
    "model.add(Conv1D(128, 3, activation='relu'))\n",
    "model.add(MaxPooling1D(3))\n",
    "model.add(Flatten())\n",
    "model.add(Dense(128, activation='relu'))\n",
    "model.add(Dense(1000, activation='softmax'))\n",
    "model.summary()"
   ]
  },
  {
   "cell_type": "code",
   "execution_count": 25,
   "metadata": {
    "_cell_guid": "1d2d9403-1c38-4460-b662-0a4348baafc3",
    "_uuid": "d1452fe4eea37469442d4ae4152e71098d1df900",
    "execution": {
     "iopub.execute_input": "2021-07-13T17:04:41.673440Z",
     "iopub.status.busy": "2021-07-13T17:04:41.673091Z",
     "iopub.status.idle": "2021-07-13T17:11:13.016651Z",
     "shell.execute_reply": "2021-07-13T17:11:13.015888Z",
     "shell.execute_reply.started": "2021-07-13T17:04:41.673366Z"
    }
   },
   "outputs": [
    {
     "name": "stdout",
     "output_type": "stream",
     "text": [
      "WARNING:tensorflow:From /opt/conda/lib/python3.6/site-packages/tensorflow/python/ops/math_ops.py:3066: to_int32 (from tensorflow.python.ops.math_ops) is deprecated and will be removed in a future version.\n",
      "Instructions for updating:\n",
      "Use tf.cast instead.\n",
      "Train on 53117 samples, validate on 13280 samples\n",
      "Epoch 1/10\n",
      "53117/53117 [==============================] - 41s 774us/step - loss: 0.0043 - categorical_accuracy: 0.3487 - val_loss: 0.0106 - val_categorical_accuracy: 0.1199\n",
      "Epoch 2/10\n",
      "53117/53117 [==============================] - 40s 746us/step - loss: 0.0024 - categorical_accuracy: 0.6037 - val_loss: 0.0110 - val_categorical_accuracy: 0.1200\n",
      "Epoch 3/10\n",
      "53117/53117 [==============================] - 39s 739us/step - loss: 0.0016 - categorical_accuracy: 0.7339 - val_loss: 0.0113 - val_categorical_accuracy: 0.1303\n",
      "Epoch 4/10\n",
      "53117/53117 [==============================] - 39s 728us/step - loss: 0.0012 - categorical_accuracy: 0.8003 - val_loss: 0.0111 - val_categorical_accuracy: 0.1558\n",
      "Epoch 5/10\n",
      "53117/53117 [==============================] - 39s 728us/step - loss: 9.4540e-04 - categorical_accuracy: 0.8408 - val_loss: 0.0120 - val_categorical_accuracy: 0.1047\n",
      "Epoch 6/10\n",
      "53117/53117 [==============================] - 39s 728us/step - loss: 7.9545e-04 - categorical_accuracy: 0.8645 - val_loss: 0.0118 - val_categorical_accuracy: 0.1450\n",
      "Epoch 7/10\n",
      "53117/53117 [==============================] - 38s 724us/step - loss: 6.9602e-04 - categorical_accuracy: 0.8807 - val_loss: 0.0121 - val_categorical_accuracy: 0.1625\n",
      "Epoch 8/10\n",
      "53117/53117 [==============================] - 40s 748us/step - loss: 6.1552e-04 - categorical_accuracy: 0.8952 - val_loss: 0.0123 - val_categorical_accuracy: 0.1104\n",
      "Epoch 9/10\n",
      "53117/53117 [==============================] - 38s 718us/step - loss: 5.6786e-04 - categorical_accuracy: 0.9040 - val_loss: 0.0127 - val_categorical_accuracy: 0.1056\n",
      "Epoch 10/10\n",
      "53117/53117 [==============================] - 38s 722us/step - loss: 5.3342e-04 - categorical_accuracy: 0.9109 - val_loss: 0.0129 - val_categorical_accuracy: 0.1040\n"
     ]
    },
    {
     "data": {
      "text/plain": [
       "<keras.callbacks.History at 0x7f86118acf28>"
      ]
     },
     "execution_count": 25,
     "metadata": {},
     "output_type": "execute_result"
    }
   ],
   "source": [
    "\n",
    "model.compile(loss='binary_crossentropy', optimizer='adam', metrics=[categorical_accuracy])\n",
    "\n",
    "model.fit(data, labels, validation_split=0.2, epochs=10)"
   ]
  },
  {
   "cell_type": "code",
   "execution_count": 28,
   "metadata": {
    "execution": {
     "iopub.execute_input": "2021-07-13T17:12:20.117167Z",
     "iopub.status.busy": "2021-07-13T17:12:20.116855Z",
     "iopub.status.idle": "2021-07-13T17:12:20.510134Z",
     "shell.execute_reply": "2021-07-13T17:12:20.509203Z",
     "shell.execute_reply.started": "2021-07-13T17:12:20.117111Z"
    }
   },
   "outputs": [],
   "source": [
    "model.save(\"weights_cnn_sentece.hdf5\")"
   ]
  },
  {
   "cell_type": "code",
   "execution_count": 29,
   "metadata": {
    "execution": {
     "iopub.execute_input": "2021-07-13T17:13:13.681796Z",
     "iopub.status.busy": "2021-07-13T17:13:13.681445Z",
     "iopub.status.idle": "2021-07-13T17:13:13.685875Z",
     "shell.execute_reply": "2021-07-13T17:13:13.685083Z",
     "shell.execute_reply.started": "2021-07-13T17:13:13.681732Z"
    }
   },
   "outputs": [],
   "source": [
    "str1=\"vissco core 0626 sternal brace medium vissco core 0626 sternal brace is used to help provide support and stability to the sternum bone it is used post open heart surgery and in aiding the treatment of sternal fractures it supports the sternum and provides pain relief uses it is used to aid the treatment of sternal fractures by supporting the sternum it helps in reducing pain after an\""
   ]
  },
  {
   "cell_type": "code",
   "execution_count": 30,
   "metadata": {
    "execution": {
     "iopub.execute_input": "2021-07-13T17:13:14.711089Z",
     "iopub.status.busy": "2021-07-13T17:13:14.710752Z",
     "iopub.status.idle": "2021-07-13T17:13:14.715716Z",
     "shell.execute_reply": "2021-07-13T17:13:14.714759Z",
     "shell.execute_reply.started": "2021-07-13T17:13:14.711024Z"
    }
   },
   "outputs": [],
   "source": [
    "s=tokenizer.texts_to_sequences([str1])\n",
    "input=pad_sequences(s, maxlen=max_length)"
   ]
  },
  {
   "cell_type": "code",
   "execution_count": 31,
   "metadata": {
    "execution": {
     "iopub.execute_input": "2021-07-13T17:13:15.235627Z",
     "iopub.status.busy": "2021-07-13T17:13:15.235073Z",
     "iopub.status.idle": "2021-07-13T17:13:15.246176Z",
     "shell.execute_reply": "2021-07-13T17:13:15.245039Z",
     "shell.execute_reply.started": "2021-07-13T17:13:15.235346Z"
    }
   },
   "outputs": [
    {
     "name": "stdout",
     "output_type": "stream",
     "text": [
      "None None None None None None None None None None None None None None None None None None None None None None None None None None None None None None None None vissco core 0626 sternal brace medium vissco core 0626 sternal brace is used to help provide support and stability to the sternum bone it is used post open heart surgery and in aiding the treatment of sternal fractures it supports the sternum and provides pain relief uses it is used to aid the treatment of sternal fractures by supporting the sternum it helps in reducing pain after an "
     ]
    }
   ],
   "source": [
    "for w in input[0]:\n",
    "    x = inv_index.get(w)\n",
    "    print(x,end = ' ')"
   ]
  },
  {
   "cell_type": "code",
   "execution_count": 32,
   "metadata": {
    "_cell_guid": "6c6f3ee8-96ef-4ece-8f1e-a08ccef0524e",
    "_uuid": "991e688ef06e9fb984786fcffee884f5c4404638",
    "execution": {
     "iopub.execute_input": "2021-07-13T17:13:16.007104Z",
     "iopub.status.busy": "2021-07-13T17:13:16.006808Z",
     "iopub.status.idle": "2021-07-13T17:13:16.118853Z",
     "shell.execute_reply": "2021-07-13T17:13:16.118042Z",
     "shell.execute_reply.started": "2021-07-13T17:13:16.007058Z"
    }
   },
   "outputs": [],
   "source": [
    "# Get prediction\n",
    "pred = model.predict(input[0].reshape(1,100))\n",
    "clsuterNo=np.argmax(pred)"
   ]
  },
  {
   "cell_type": "code",
   "execution_count": 33,
   "metadata": {
    "execution": {
     "iopub.execute_input": "2021-07-13T17:13:16.585829Z",
     "iopub.status.busy": "2021-07-13T17:13:16.585541Z",
     "iopub.status.idle": "2021-07-13T17:13:16.593252Z",
     "shell.execute_reply": "2021-07-13T17:13:16.592053Z",
     "shell.execute_reply.started": "2021-07-13T17:13:16.585779Z"
    }
   },
   "outputs": [
    {
     "data": {
      "text/plain": [
       "281"
      ]
     },
     "execution_count": 33,
     "metadata": {},
     "output_type": "execute_result"
    }
   ],
   "source": [
    "clsuterNo"
   ]
  },
  {
   "cell_type": "code",
   "execution_count": 34,
   "metadata": {
    "_cell_guid": "1eae718f-f973-487c-a0ac-4358e16dc5af",
    "_uuid": "94726bda929e3e0c6790ad3842a6606c0e717000",
    "execution": {
     "iopub.execute_input": "2021-07-13T17:13:17.509781Z",
     "iopub.status.busy": "2021-07-13T17:13:17.509496Z",
     "iopub.status.idle": "2021-07-13T17:13:17.519666Z",
     "shell.execute_reply": "2021-07-13T17:13:17.518578Z",
     "shell.execute_reply.started": "2021-07-13T17:13:17.509738Z"
    }
   },
   "outputs": [],
   "source": [
    "df2=df[df[\"cluster\"]==clsuterNo]"
   ]
  },
  {
   "cell_type": "code",
   "execution_count": 35,
   "metadata": {
    "execution": {
     "iopub.execute_input": "2021-07-13T17:13:18.010192Z",
     "iopub.status.busy": "2021-07-13T17:13:18.009873Z",
     "iopub.status.idle": "2021-07-13T17:13:18.049128Z",
     "shell.execute_reply": "2021-07-13T17:13:18.048220Z",
     "shell.execute_reply.started": "2021-07-13T17:13:18.010130Z"
    }
   },
   "outputs": [
    {
     "data": {
      "text/html": [
       "<div>\n",
       "<style scoped>\n",
       "    .dataframe tbody tr th:only-of-type {\n",
       "        vertical-align: middle;\n",
       "    }\n",
       "\n",
       "    .dataframe tbody tr th {\n",
       "        vertical-align: top;\n",
       "    }\n",
       "\n",
       "    .dataframe thead th {\n",
       "        text-align: right;\n",
       "    }\n",
       "</style>\n",
       "<table border=\"1\" class=\"dataframe\">\n",
       "  <thead>\n",
       "    <tr style=\"text-align: right;\">\n",
       "      <th></th>\n",
       "      <th>Unnamed: 0</th>\n",
       "      <th>id</th>\n",
       "      <th>product_info</th>\n",
       "      <th>desc</th>\n",
       "      <th>cluster</th>\n",
       "    </tr>\n",
       "  </thead>\n",
       "  <tbody>\n",
       "    <tr>\n",
       "      <th>22048</th>\n",
       "      <td>0</td>\n",
       "      <td>6437</td>\n",
       "      <td>LP 330 HEELCARE CUSHION CUPS PAIR MEDIUM</td>\n",
       "      <td>lp 330 heelcare cushion cups pair large 331575...</td>\n",
       "      <td>281</td>\n",
       "    </tr>\n",
       "    <tr>\n",
       "      <th>22049</th>\n",
       "      <td>1</td>\n",
       "      <td>11878</td>\n",
       "      <td>TYNOR K 02 HEEL CUSHION SILICON PAIR LARGE</td>\n",
       "      <td>tynor k 02 heel cushion silicone pair large ty...</td>\n",
       "      <td>281</td>\n",
       "    </tr>\n",
       "    <tr>\n",
       "      <th>22050</th>\n",
       "      <td>2</td>\n",
       "      <td>11879</td>\n",
       "      <td>TYNOR K 02 HEEL CUSHION SILICON PAIR MEDIUM</td>\n",
       "      <td>tynor k 02 heel cushion silicone pair medium i...</td>\n",
       "      <td>281</td>\n",
       "    </tr>\n",
       "    <tr>\n",
       "      <th>22051</th>\n",
       "      <td>3</td>\n",
       "      <td>11880</td>\n",
       "      <td>TYNOR K 02 HEEL CUSHION SILICON PAIR SMALL</td>\n",
       "      <td>tynor k 02 heel cushion silicone pair medium t...</td>\n",
       "      <td>281</td>\n",
       "    </tr>\n",
       "    <tr>\n",
       "      <th>22052</th>\n",
       "      <td>4</td>\n",
       "      <td>11881</td>\n",
       "      <td>TYNOR K 09 HEEL CUP SILICON PAIR MEDIUM</td>\n",
       "      <td>tynor k 09 heel cup silicone pair medium 33573...</td>\n",
       "      <td>281</td>\n",
       "    </tr>\n",
       "    <tr>\n",
       "      <th>22053</th>\n",
       "      <td>5</td>\n",
       "      <td>11882</td>\n",
       "      <td>TYNOR K 09 HEEL CUP SILICON PAIR SMALL</td>\n",
       "      <td>tynor k 09 heel cup silicone pair small 335736...</td>\n",
       "      <td>281</td>\n",
       "    </tr>\n",
       "    <tr>\n",
       "      <th>22054</th>\n",
       "      <td>6</td>\n",
       "      <td>12577</td>\n",
       "      <td>WELLON HEEL CUSHION PAIR HC 02 UNIVERSAL</td>\n",
       "      <td>wellon heel cushion pair hc 02 universal 38772...</td>\n",
       "      <td>281</td>\n",
       "    </tr>\n",
       "    <tr>\n",
       "      <th>22055</th>\n",
       "      <td>7</td>\n",
       "      <td>17233</td>\n",
       "      <td>NEWMOM SILICONE HEEL CUSHION SMALL</td>\n",
       "      <td>2021 order tynor k 02 heel cushion silicone pa...</td>\n",
       "      <td>281</td>\n",
       "    </tr>\n",
       "    <tr>\n",
       "      <th>22056</th>\n",
       "      <td>8</td>\n",
       "      <td>23594</td>\n",
       "      <td>HEALTHGENIE SILICONE GEL HEEL SOCK UNIVERSAL B...</td>\n",
       "      <td>healthgenie silicone gel heel pad socks health...</td>\n",
       "      <td>281</td>\n",
       "    </tr>\n",
       "    <tr>\n",
       "      <th>22057</th>\n",
       "      <td>9</td>\n",
       "      <td>23595</td>\n",
       "      <td>HEALTHGENIE SILICONE GEL HEEL PAD SOCKS UNIVERSAL</td>\n",
       "      <td>healthgenie silicone gel heel sock universal i...</td>\n",
       "      <td>281</td>\n",
       "    </tr>\n",
       "    <tr>\n",
       "      <th>22058</th>\n",
       "      <td>10</td>\n",
       "      <td>23596</td>\n",
       "      <td>HEALTHGENIE SILICONE GEL HEEL SOCK UNIVERSAL B...</td>\n",
       "      <td>healthgenie silicone gel heel sock universal i...</td>\n",
       "      <td>281</td>\n",
       "    </tr>\n",
       "    <tr>\n",
       "      <th>22059</th>\n",
       "      <td>11</td>\n",
       "      <td>48658</td>\n",
       "      <td>LP 330 HEELCARE CUSHION CUPS PAIR MEDIUM</td>\n",
       "      <td>otc lp 330 heelcare cushion cups pair large ot...</td>\n",
       "      <td>281</td>\n",
       "    </tr>\n",
       "    <tr>\n",
       "      <th>22060</th>\n",
       "      <td>12</td>\n",
       "      <td>49756</td>\n",
       "      <td>MGRM HEEL CUP PAIR 1101 LARGE</td>\n",
       "      <td>otc mgrm heel cup pair 1101 large otc390593mgr...</td>\n",
       "      <td>281</td>\n",
       "    </tr>\n",
       "    <tr>\n",
       "      <th>22061</th>\n",
       "      <td>13</td>\n",
       "      <td>49757</td>\n",
       "      <td>MGRM HEEL CUP PAIR 1101 SMALL</td>\n",
       "      <td>otc mgrm heel cup pair 1101 medium otc390594or...</td>\n",
       "      <td>281</td>\n",
       "    </tr>\n",
       "    <tr>\n",
       "      <th>22062</th>\n",
       "      <td>14</td>\n",
       "      <td>49758</td>\n",
       "      <td>MGRM HEEL CUP SINGLE 1101 MEDIUM RIGHT</td>\n",
       "      <td>otc mgrm heel cup single 1101 medium right otc...</td>\n",
       "      <td>281</td>\n",
       "    </tr>\n",
       "    <tr>\n",
       "      <th>22063</th>\n",
       "      <td>15</td>\n",
       "      <td>49759</td>\n",
       "      <td>MGRM HEEL CUP PAIR 1101 MEDIUM</td>\n",
       "      <td>otc mgrm heel cup single 1101 medium right otc...</td>\n",
       "      <td>281</td>\n",
       "    </tr>\n",
       "    <tr>\n",
       "      <th>22064</th>\n",
       "      <td>16</td>\n",
       "      <td>51161</td>\n",
       "      <td>NEWMOM SILICONE HEEL CUSHION LARGE</td>\n",
       "      <td>otc newmom silicone heel cushion large otc3975...</td>\n",
       "      <td>281</td>\n",
       "    </tr>\n",
       "    <tr>\n",
       "      <th>22065</th>\n",
       "      <td>17</td>\n",
       "      <td>51162</td>\n",
       "      <td>NEWMOM SILICONE HEEL CUSHION XL</td>\n",
       "      <td>otc newmom silicone heel cushion large otc3975...</td>\n",
       "      <td>281</td>\n",
       "    </tr>\n",
       "    <tr>\n",
       "      <th>22066</th>\n",
       "      <td>18</td>\n",
       "      <td>51163</td>\n",
       "      <td>NEWMOM SILICONE HEEL CUSHION MEDIUM</td>\n",
       "      <td>otc newmom silicone heel cushion large otc3975...</td>\n",
       "      <td>281</td>\n",
       "    </tr>\n",
       "    <tr>\n",
       "      <th>22067</th>\n",
       "      <td>19</td>\n",
       "      <td>52263</td>\n",
       "      <td>ORTHOTECH OR 7009 SILICON HEEL PAD LARGE TRANS...</td>\n",
       "      <td>otc orthotech or 7009 silicon heel pad large o...</td>\n",
       "      <td>281</td>\n",
       "    </tr>\n",
       "    <tr>\n",
       "      <th>22068</th>\n",
       "      <td>20</td>\n",
       "      <td>52264</td>\n",
       "      <td>ORTHOTECH OR 7009 SILICON HEEL PAD MEDIUM TRAN...</td>\n",
       "      <td>otc orthotech or 7009 silicon heel pad medium ...</td>\n",
       "      <td>281</td>\n",
       "    </tr>\n",
       "    <tr>\n",
       "      <th>22069</th>\n",
       "      <td>21</td>\n",
       "      <td>59816</td>\n",
       "      <td>TYNOR K 02 HEEL CUSHION SILICON PAIR LARGE</td>\n",
       "      <td>otc tynor k 02 heel cushion silicone pair larg...</td>\n",
       "      <td>281</td>\n",
       "    </tr>\n",
       "    <tr>\n",
       "      <th>22070</th>\n",
       "      <td>22</td>\n",
       "      <td>59817</td>\n",
       "      <td>TYNOR K 02 HEEL CUSHION SILICON PAIR MEDIUM</td>\n",
       "      <td>otc tynor k 02 heel cushion silicone pair medi...</td>\n",
       "      <td>281</td>\n",
       "    </tr>\n",
       "    <tr>\n",
       "      <th>22071</th>\n",
       "      <td>23</td>\n",
       "      <td>59818</td>\n",
       "      <td>TYNOR K 02 HEEL CUSHION SILICON PAIR SMALL</td>\n",
       "      <td>otc tynor k 02 heel cushion silicone pair medi...</td>\n",
       "      <td>281</td>\n",
       "    </tr>\n",
       "    <tr>\n",
       "      <th>22072</th>\n",
       "      <td>24</td>\n",
       "      <td>59819</td>\n",
       "      <td>TYNOR K 09 HEEL CUP SILICON PAIR LARGE</td>\n",
       "      <td>otc tynor k 09 heel cup silicone pair large ot...</td>\n",
       "      <td>281</td>\n",
       "    </tr>\n",
       "    <tr>\n",
       "      <th>22073</th>\n",
       "      <td>25</td>\n",
       "      <td>59820</td>\n",
       "      <td>TYNOR K 09 HEEL CUP SILICON PAIR MEDIUM</td>\n",
       "      <td>otc tynor k 09 heel cup silicone pair medium o...</td>\n",
       "      <td>281</td>\n",
       "    </tr>\n",
       "    <tr>\n",
       "      <th>22074</th>\n",
       "      <td>26</td>\n",
       "      <td>59821</td>\n",
       "      <td>TYNOR K 09 HEEL CUP SILICON PAIR SMALL</td>\n",
       "      <td>otc tynor k 09 heel cup silicone pair small ot...</td>\n",
       "      <td>281</td>\n",
       "    </tr>\n",
       "    <tr>\n",
       "      <th>22075</th>\n",
       "      <td>27</td>\n",
       "      <td>60774</td>\n",
       "      <td>VISSCO SILICONE HEEL CUSHION 0710 UNIVERSAL</td>\n",
       "      <td>otc vissco silicone heel cushion 0710 universa...</td>\n",
       "      <td>281</td>\n",
       "    </tr>\n",
       "    <tr>\n",
       "      <th>22076</th>\n",
       "      <td>28</td>\n",
       "      <td>60775</td>\n",
       "      <td>VISSCO SILICONE HEEL CUSHION 0726</td>\n",
       "      <td>otc vissco silicone heel cushion 0726 otc35742...</td>\n",
       "      <td>281</td>\n",
       "    </tr>\n",
       "    <tr>\n",
       "      <th>22077</th>\n",
       "      <td>29</td>\n",
       "      <td>61249</td>\n",
       "      <td>WELLON FOOT INSOLE PAIR HC 03 SMALL</td>\n",
       "      <td>otc wellon foot insole pair hc03 small otc3877...</td>\n",
       "      <td>281</td>\n",
       "    </tr>\n",
       "    <tr>\n",
       "      <th>22078</th>\n",
       "      <td>30</td>\n",
       "      <td>61254</td>\n",
       "      <td>WELLON HEEL CUSHION PAIR HC 02 UNIVERSAL</td>\n",
       "      <td>otc wellon heel cushion pair hc 02 universal o...</td>\n",
       "      <td>281</td>\n",
       "    </tr>\n",
       "  </tbody>\n",
       "</table>\n",
       "</div>"
      ],
      "text/plain": [
       "       Unnamed: 0   ...     cluster\n",
       "22048           0   ...         281\n",
       "22049           1   ...         281\n",
       "22050           2   ...         281\n",
       "22051           3   ...         281\n",
       "22052           4   ...         281\n",
       "22053           5   ...         281\n",
       "22054           6   ...         281\n",
       "22055           7   ...         281\n",
       "22056           8   ...         281\n",
       "22057           9   ...         281\n",
       "22058          10   ...         281\n",
       "22059          11   ...         281\n",
       "22060          12   ...         281\n",
       "22061          13   ...         281\n",
       "22062          14   ...         281\n",
       "22063          15   ...         281\n",
       "22064          16   ...         281\n",
       "22065          17   ...         281\n",
       "22066          18   ...         281\n",
       "22067          19   ...         281\n",
       "22068          20   ...         281\n",
       "22069          21   ...         281\n",
       "22070          22   ...         281\n",
       "22071          23   ...         281\n",
       "22072          24   ...         281\n",
       "22073          25   ...         281\n",
       "22074          26   ...         281\n",
       "22075          27   ...         281\n",
       "22076          28   ...         281\n",
       "22077          29   ...         281\n",
       "22078          30   ...         281\n",
       "\n",
       "[31 rows x 5 columns]"
      ]
     },
     "execution_count": 35,
     "metadata": {},
     "output_type": "execute_result"
    }
   ],
   "source": [
    "df2"
   ]
  },
  {
   "cell_type": "markdown",
   "metadata": {},
   "source": [
    "## "
   ]
  },
  {
   "cell_type": "code",
   "execution_count": null,
   "metadata": {},
   "outputs": [],
   "source": []
  }
 ],
 "metadata": {
  "kernelspec": {
   "display_name": "Python 3",
   "language": "python",
   "name": "python3"
  },
  "language_info": {
   "codemirror_mode": {
    "name": "ipython",
    "version": 3
   },
   "file_extension": ".py",
   "mimetype": "text/x-python",
   "name": "python",
   "nbconvert_exporter": "python",
   "pygments_lexer": "ipython3",
   "version": "3.7.10"
  }
 },
 "nbformat": 4,
 "nbformat_minor": 4
}
