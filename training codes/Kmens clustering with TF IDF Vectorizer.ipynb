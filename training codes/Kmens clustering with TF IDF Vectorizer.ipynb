{
  "nbformat": 4,
  "nbformat_minor": 0,
  "metadata": {
    "colab": {
      "name": "KMEANS CLUTERING with TF-IDF Vectorizer",
      "provenance": [],
      "collapsed_sections": []
    },
    "kernelspec": {
      "name": "python3",
      "display_name": "Python 3"
    },
    "language_info": {
      "name": "python"
    }
  },
  "cells": [
    {
      "cell_type": "code",
      "metadata": {
        "id": "_QErjwWeZPxy",
        "colab": {
          "base_uri": "https://localhost:8080/"
        },
        "outputId": "e03e64bc-072c-48ad-d91a-2b0ebfcd03a2"
      },
      "source": [
        "from google.colab import drive\n",
        "drive.mount('/content/drive')"
      ],
      "execution_count": 1,
      "outputs": [
        {
          "output_type": "stream",
          "text": [
            "Mounted at /content/drive\n"
          ],
          "name": "stdout"
        }
      ]
    },
    {
      "cell_type": "code",
      "metadata": {
        "colab": {
          "base_uri": "https://localhost:8080/"
        },
        "id": "gDZe9LT7aQSx",
        "outputId": "19a8cab7-d530-4f29-f223-9042e2108ad9"
      },
      "source": [
        "import pandas as pd\n",
        "df = pd.read_csv(\"/content/drive/My Drive/final main.csv\")\n",
        "df.shape"
      ],
      "execution_count": 3,
      "outputs": [
        {
          "output_type": "execute_result",
          "data": {
            "text/plain": [
              "(66397, 2)"
            ]
          },
          "metadata": {
            "tags": []
          },
          "execution_count": 3
        }
      ]
    },
    {
      "cell_type": "code",
      "metadata": {
        "colab": {
          "base_uri": "https://localhost:8080/"
        },
        "id": "DyfCYDYtd2gb",
        "outputId": "3e34315a-42c8-499d-f790-c1fdaf61246b"
      },
      "source": [
        "df.shape"
      ],
      "execution_count": 4,
      "outputs": [
        {
          "output_type": "execute_result",
          "data": {
            "text/plain": [
              "(66397, 2)"
            ]
          },
          "metadata": {
            "tags": []
          },
          "execution_count": 4
        }
      ]
    },
    {
      "cell_type": "code",
      "metadata": {
        "colab": {
          "base_uri": "https://localhost:8080/"
        },
        "id": "9q1ROnpnaeIe",
        "outputId": "3dc7499d-3297-4321-d885-88f658184f15"
      },
      "source": [
        "df.info()\n"
      ],
      "execution_count": 5,
      "outputs": [
        {
          "output_type": "stream",
          "text": [
            "<class 'pandas.core.frame.DataFrame'>\n",
            "RangeIndex: 66397 entries, 0 to 66396\n",
            "Data columns (total 2 columns):\n",
            " #   Column        Non-Null Count  Dtype \n",
            "---  ------        --------------  ----- \n",
            " 0   product_info  66397 non-null  object\n",
            " 1   desc          66397 non-null  object\n",
            "dtypes: object(2)\n",
            "memory usage: 1.0+ MB\n"
          ],
          "name": "stdout"
        }
      ]
    },
    {
      "cell_type": "code",
      "metadata": {
        "id": "PsU0VYf_atzX"
      },
      "source": [
        "from sklearn.feature_extraction.text import TfidfVectorizer\n",
        "from sklearn.cluster import KMeans\n"
      ],
      "execution_count": 6,
      "outputs": []
    },
    {
      "cell_type": "code",
      "metadata": {
        "id": "Fqce68MTbE4w"
      },
      "source": [
        "\n",
        "import numpy as np\n",
        "import re\n",
        "import itertools\n",
        "from collections import Counter\n",
        "import pandas as pd\n",
        "def clean_str(string):\n",
        "    \"\"\"\n",
        "    Tokenization/string cleaning for all datasets except for SST.\n",
        "    \"\"\"\n",
        "    string = re.sub(r\"[^A-Za-z0-9(),!?\\'\\`]\", \" \", string)\n",
        "    string = re.sub(r\"\\'s\", \" \\'s\", string)\n",
        "    string = re.sub(r\"\\'ve\", \" \\'ve\", string)\n",
        "    string = re.sub(r\"n\\'t\", \" n\\'t\", string)\n",
        "    string = re.sub(r\"\\'re\", \" \\'re\", string)\n",
        "    string = re.sub(r\"\\'d\", \" \\'d\", string)\n",
        "    string = re.sub(r\"\\'ll\", \" \\'ll\", string)\n",
        "    string = re.sub(r\",\", \" , \", string)\n",
        "    string = re.sub(r\"!\", \" ! \", string)\n",
        "    string = re.sub(r\"\\(\", \" \\( \", string)\n",
        "    string = re.sub(r\"\\)\", \" \\) \", string)\n",
        "    string = re.sub(r\"\\?\", \" \\? \", string)\n",
        "    string = re.sub(r\"\\s{2,}\", \" \", string)\n",
        "    return string.strip().lower()\n"
      ],
      "execution_count": 7,
      "outputs": []
    },
    {
      "cell_type": "code",
      "metadata": {
        "id": "gN9B6GpVa1bO"
      },
      "source": [
        "for i in range(0,df.shape[0]):\n",
        "  df['desc'][i]= clean_str(df['desc'][i])"
      ],
      "execution_count": 8,
      "outputs": []
    },
    {
      "cell_type": "code",
      "metadata": {
        "colab": {
          "base_uri": "https://localhost:8080/",
          "height": 198
        },
        "id": "e054aNumbUoQ",
        "outputId": "bd140a78-9530-427e-d49b-968f42e3daec"
      },
      "source": [
        "df.head()"
      ],
      "execution_count": 9,
      "outputs": [
        {
          "output_type": "execute_result",
          "data": {
            "text/html": [
              "<div>\n",
              "<style scoped>\n",
              "    .dataframe tbody tr th:only-of-type {\n",
              "        vertical-align: middle;\n",
              "    }\n",
              "\n",
              "    .dataframe tbody tr th {\n",
              "        vertical-align: top;\n",
              "    }\n",
              "\n",
              "    .dataframe thead th {\n",
              "        text-align: right;\n",
              "    }\n",
              "</style>\n",
              "<table border=\"1\" class=\"dataframe\">\n",
              "  <thead>\n",
              "    <tr style=\"text-align: right;\">\n",
              "      <th></th>\n",
              "      <th>product_info</th>\n",
              "      <th>desc</th>\n",
              "    </tr>\n",
              "  </thead>\n",
              "  <tbody>\n",
              "    <tr>\n",
              "      <th>0</th>\n",
              "      <td>SEER SECRETS ACTIVE SILVER ION DEODORANT CREAM</td>\n",
              "      <td>1mg body lotion with shea butter vitamin e p 1...</td>\n",
              "    </tr>\n",
              "    <tr>\n",
              "      <th>1</th>\n",
              "      <td>SEER SECRETS MILK BODY LOTION SPF 21</td>\n",
              "      <td>1mg body lotion with shea butter vitamin e p 1...</td>\n",
              "    </tr>\n",
              "    <tr>\n",
              "      <th>2</th>\n",
              "      <td>VITRO NATURALS ALOE SHEA BODY BUTTER</td>\n",
              "      <td>1mg body lotion with shea butter vitamin e p 1...</td>\n",
              "    </tr>\n",
              "    <tr>\n",
              "      <th>3</th>\n",
              "      <td>1MILE HEALTHCARE CLASSIC TONE STETHOSCOPE</td>\n",
              "      <td>1mile healthcare classic tone stethoscope orde...</td>\n",
              "    </tr>\n",
              "    <tr>\n",
              "      <th>4</th>\n",
              "      <td>1MILE HEALTHCARE DOCTOR PLUS STETHOSCOPE</td>\n",
              "      <td>1mile healthcare doctor plus stethoscope 606 o...</td>\n",
              "    </tr>\n",
              "  </tbody>\n",
              "</table>\n",
              "</div>"
            ],
            "text/plain": [
              "                                     product_info                                               desc\n",
              "0  SEER SECRETS ACTIVE SILVER ION DEODORANT CREAM  1mg body lotion with shea butter vitamin e p 1...\n",
              "1            SEER SECRETS MILK BODY LOTION SPF 21  1mg body lotion with shea butter vitamin e p 1...\n",
              "2            VITRO NATURALS ALOE SHEA BODY BUTTER  1mg body lotion with shea butter vitamin e p 1...\n",
              "3       1MILE HEALTHCARE CLASSIC TONE STETHOSCOPE  1mile healthcare classic tone stethoscope orde...\n",
              "4        1MILE HEALTHCARE DOCTOR PLUS STETHOSCOPE  1mile healthcare doctor plus stethoscope 606 o..."
            ]
          },
          "metadata": {
            "tags": []
          },
          "execution_count": 9
        }
      ]
    },
    {
      "cell_type": "code",
      "metadata": {
        "id": "r68xdA_DbSqT"
      },
      "source": [
        "documents = df['desc'].values.astype(\"U\")"
      ],
      "execution_count": 10,
      "outputs": []
    },
    {
      "cell_type": "code",
      "metadata": {
        "id": "TV9Xj-4qbf3g"
      },
      "source": [
        "\n",
        "vectorizer = TfidfVectorizer(stop_words='english')\n",
        "features = vectorizer.fit_transform(documents)"
      ],
      "execution_count": 11,
      "outputs": []
    },
    {
      "cell_type": "code",
      "metadata": {
        "id": "3_pr4pkyhG5g"
      },
      "source": [
        "  # #ELBOW METHOD TO FIND K\n",
        "# cost =[]\n",
        "# for i in range(1000, 5000,500):\n",
        "#     KM = KMeans(n_clusters = i, max_iter = 500)\n",
        "#     KM.fit(features)\n",
        "#     cost.append(KM.inertia_)     \n",
        "  \n",
        "# plt.plot(range(1000,5000), cost, color ='g', linewidth ='3')\n",
        "# plt.xlabel(\"Value of K\")\n",
        "# plt.ylabel(\"Sqaured Error (Cost)\")\n",
        "# plt.show() \n",
        "  \n"
      ],
      "execution_count": null,
      "outputs": []
    },
    {
      "cell_type": "code",
      "metadata": {
        "colab": {
          "base_uri": "https://localhost:8080/"
        },
        "id": "9fOPl2Llbjwu",
        "outputId": "f773a81d-5b90-405b-a9b9-1f21c0f78d74"
      },
      "source": [
        "k = 1000\n",
        "model = KMeans(n_clusters=k, init='k-means++', max_iter=100, n_init=1)\n",
        "model.fit(features)"
      ],
      "execution_count": null,
      "outputs": [
        {
          "output_type": "execute_result",
          "data": {
            "text/plain": [
              "KMeans(algorithm='auto', copy_x=True, init='k-means++', max_iter=100,\n",
              "       n_clusters=1000, n_init=1, n_jobs=None, precompute_distances='auto',\n",
              "       random_state=None, tol=0.0001, verbose=0)"
            ]
          },
          "metadata": {
            "tags": []
          },
          "execution_count": 23
        }
      ]
    },
    {
      "cell_type": "code",
      "metadata": {
        "id": "GOcM5LhOVcyh"
      },
      "source": [
        "import pickle\n",
        "pickle.dump(model, open(\"/content/drive/My Drive/KMEANS CLUTERING with TF-IDF Vectorizer.sav\", 'wb'))"
      ],
      "execution_count": null,
      "outputs": []
    },
    {
      "cell_type": "code",
      "metadata": {
        "id": "3Is9Ahosv655"
      },
      "source": [
        "model = KMeans(n_clusters=k, init='k-means++', max_iter=100, n_init=1)\n"
      ],
      "execution_count": null,
      "outputs": []
    },
    {
      "cell_type": "code",
      "metadata": {
        "id": "AEwZ609sv0B8"
      },
      "source": [
        "import pickle\n",
        "model= pickle.load(open(\"/content/drive/My Drive/KMEANS CLUTERING with TF-IDF Vectorizer.sav\", 'rb'))"
      ],
      "execution_count": 12,
      "outputs": []
    },
    {
      "cell_type": "code",
      "metadata": {
        "id": "PbN8Cz7DbmvN"
      },
      "source": [
        "df['cluster'] = model.labels_"
      ],
      "execution_count": 13,
      "outputs": []
    },
    {
      "cell_type": "code",
      "metadata": {
        "colab": {
          "base_uri": "https://localhost:8080/"
        },
        "id": "xYXzzz5ObwV1",
        "outputId": "72c7e756-1476-48f6-aed5-cf9161670ee1"
      },
      "source": [
        "df['cluster']"
      ],
      "execution_count": null,
      "outputs": [
        {
          "output_type": "execute_result",
          "data": {
            "text/plain": [
              "0         17\n",
              "1         17\n",
              "2         17\n",
              "3        586\n",
              "4        586\n",
              "        ... \n",
              "66392    556\n",
              "66393     83\n",
              "66394    163\n",
              "66395    460\n",
              "66396     83\n",
              "Name: cluster, Length: 66397, dtype: int32"
            ]
          },
          "metadata": {
            "tags": []
          },
          "execution_count": 42
        }
      ]
    },
    {
      "cell_type": "code",
      "metadata": {
        "id": "6gxA95_8bxnF"
      },
      "source": [
        "df.head()\n",
        "\n",
        "# output the result to a text file.\n",
        "\n",
        "clusters = df.groupby('cluster')    "
      ],
      "execution_count": 14,
      "outputs": []
    },
    {
      "cell_type": "code",
      "metadata": {
        "id": "37slLiqpb7Cm"
      },
      "source": [
        "k=1000\n",
        "for cluster in clusters.groups:\n",
        "    f = open('cluster'+str(cluster)+ '.csv', 'w') # create csv file\n",
        "    data = clusters.get_group(cluster)[['product_info','desc']] # get title and overview columns\n",
        "    f.write(data.to_csv(index_label='id')) # set index to id\n",
        "    f.close()\n",
        "\n",
        "print(\"Cluster centroids: \\n\")\n",
        "order_centroids = model.cluster_centers_.argsort()[:, ::-1]\n",
        "terms = vectorizer.get_feature_names()\n",
        "\n",
        "for i in range(k):\n",
        "    print(\"Cluster %d:\" % i)\n",
        "    for j in order_centroids[i, :10]: #print out 10 feature terms of each cluster\n",
        "        print (' %s' % terms[j])\n",
        "    print('------------')"
      ],
      "execution_count": null,
      "outputs": []
    },
    {
      "cell_type": "code",
      "metadata": {
        "id": "lidqVvvodijs"
      },
      "source": [
        "def search(str):\n",
        "  new_doc = [str]\n",
        "  Y = vectorizer.transform(new_doc)\n",
        "  prediction = model.predict(Y)\n",
        "  print(prediction)\n",
        "  result=pd.read_csv(\"cluster{}.csv\".format(prediction[0]))\n",
        "  indices = [i for i, s in enumerate(list(result[\"desc\"])) if str in s]\n",
        "  print(indices)\n",
        "  if len(indices)==0:\n",
        "    print(result[\"product_info\"])\n",
        "  else:\n",
        "    for i in indices:\n",
        "      print(result[\"product_info\"][i])"
      ],
      "execution_count": 60,
      "outputs": []
    },
    {
      "cell_type": "code",
      "metadata": {
        "id": "niATywtMlcOp",
        "colab": {
          "base_uri": "https://localhost:8080/"
        },
        "outputId": "a995fc2b-e148-4e26-ca4b-67abb7d995c4"
      },
      "source": [
        "search(\"sanitary pads\")"
      ],
      "execution_count": 61,
      "outputs": [
        {
          "output_type": "stream",
          "text": [
            "[83]\n",
            "[749, 1750, 2908, 2909, 3231, 4239, 6138, 6374, 6375, 6807, 6808, 7221, 7223, 7224, 7609, 7646, 7647, 7650, 7651, 7652, 7653]\n",
            "SANNAP ADULT DIAPER DISPOSAL BAG\n",
            "NECTAR ACNE SHINE MEDICATED SOAP\n",
            "BELLA BABY HAPPY WET WIPES SENSITIVE ALOEVERA\n",
            "BELLA COTTON PADS 80 30%\n",
            "SANNAP PREMIUM SANITARY PADS ULTRA SILKY WINGS XL\n",
            "CAREFREE PADS REGULAR\n",
            "SANFE OXO BIODEGRADABLE DISPOSAL BAG\n",
            "SOFY BODYFIT EXTRA LONG SANITARY PADS XL\n",
            "SOFY BODYFIT OVERNIGHT SANITARY PADS XXL\n",
            "WHISPER ULTRA CLEAN WINGS SANITARY PADS XL\n",
            "WHISPER ULTRA CLEAN WINGS SANITARY PADS LARGE\n",
            "SOFY ANTIBACTERIA SANITARY PADS XL\n",
            "SOFY SOFT TAMPONS REGULAR\n",
            "SOFY SOFT TAMPONS SUPER\n",
            "VWASH WOW SANITARY NAPKIN ULTRA THIN XL\n",
            "WHISPER CHOICE ULTRA SANITARY PADS XL\n",
            "WHISPER CHOICE WINGS SANITARY PADS REGULAR\n",
            "WHISPER ULTRA NIGHTS WINGS SANITARY PADS XL\n",
            "WHISPER ULTRA NIGHTS WINGS SANITARY PADS XXXL\n",
            "WHISPER ULTRA SOFT SANITARY PADS LARGE\n",
            "WHISPER ULTRA SOFT SANITARY PADS XL\n"
          ],
          "name": "stdout"
        }
      ]
    },
    {
      "cell_type": "code",
      "metadata": {
        "id": "ak6wnPcQUe_m"
      },
      "source": [
        ""
      ],
      "execution_count": null,
      "outputs": []
    }
  ]
}